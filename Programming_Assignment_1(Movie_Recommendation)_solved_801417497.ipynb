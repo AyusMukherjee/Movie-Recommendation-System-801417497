{
  "nbformat": 4,
  "nbformat_minor": 0,
  "metadata": {
    "colab": {
      "provenance": []
    },
    "kernelspec": {
      "name": "python3",
      "display_name": "Python 3"
    },
    "language_info": {
      "name": "python"
    }
  },
  "cells": [
    {
      "cell_type": "markdown",
      "source": [
        "# ITCS 6162: Data Mining - Programming Assignment"
      ],
      "metadata": {
        "id": "Hr7SGYEq69wv"
      }
    },
    {
      "cell_type": "markdown",
      "source": [
        "**In this assignment, you will explore data analysis, recommendation algorithms, and graph-based techniques using the MovieLens dataset. Your tasks will range from basic data exploration to advanced recommendation models, including:**\n",
        "- Data manipulation with pandas\n",
        "- User-item collaborative filtering\n",
        "- Similarity-based recommendation models\n",
        "- A Pixie-inspired Graph-based recommendation using adjacency lists with weighted random walks (without using NetworkX)\n"
      ],
      "metadata": {
        "id": "L_idzFtE7M_9"
      }
    },
    {
      "cell_type": "markdown",
      "source": [
        "#### **Dataset Files:**\n",
        "- **`u.data`**: User-movie ratings (`user_id  movie_id  rating  timestamp`)\n",
        "- **`u.item`**: Movie metadata (`movie_id | title | release date | IMDB_website`)\n",
        "- **`u.user`**: User demographics (`user_id | age | gender | occupation | zip_code`)"
      ],
      "metadata": {
        "id": "EZxjOF_l79zc"
      }
    },
    {
      "cell_type": "markdown",
      "source": [
        "## **Part 1: Exploring and Cleaning Data**"
      ],
      "metadata": {
        "id": "ytr6isc2F9g6"
      }
    },
    {
      "cell_type": "markdown",
      "source": [
        "### Inspecting the Dataset Format\n",
        "\n",
        "The dataset is not in a traditional CSV format. To examine its structure, use the following shell command to display the first 10 lines of the file:\n",
        "\n",
        "```sh\n",
        "!head <file_name>\n"
      ],
      "metadata": {
        "id": "87kIrhTC9Ba1"
      }
    },
    {
      "cell_type": "code",
      "source": [
        "!head u.user"
      ],
      "metadata": {
        "colab": {
          "base_uri": "https://localhost:8080/"
        },
        "id": "IJtt-RKvbq4u",
        "outputId": "590af280-2366-4f64-bd6d-6d560dac1e5b"
      },
      "execution_count": 5,
      "outputs": [
        {
          "output_type": "stream",
          "name": "stdout",
          "text": [
            "1|24|M|technician|85711\n",
            "2|53|F|other|94043\n",
            "3|23|M|writer|32067\n",
            "4|24|M|technician|43537\n",
            "5|33|F|other|15213\n",
            "6|42|M|executive|98101\n",
            "7|57|M|administrator|91344\n",
            "8|36|M|administrator|05201\n",
            "9|29|M|student|01002\n",
            "10|53|M|lawyer|90703\n"
          ]
        }
      ]
    },
    {
      "cell_type": "code",
      "source": [
        "!head u.item"
      ],
      "metadata": {
        "colab": {
          "base_uri": "https://localhost:8080/"
        },
        "id": "Pvw3G3WVbtDy",
        "outputId": "e1f1f94f-c39c-4252-e303-46bda2bd390e"
      },
      "execution_count": 6,
      "outputs": [
        {
          "output_type": "stream",
          "name": "stdout",
          "text": [
            "1|Toy Story (1995)|01-Jan-1995||http://us.imdb.com/M/title-exact?Toy%20Story%20(1995)|0|0|0|1|1|1|0|0|0|0|0|0|0|0|0|0|0|0|0\n",
            "2|GoldenEye (1995)|01-Jan-1995||http://us.imdb.com/M/title-exact?GoldenEye%20(1995)|0|1|1|0|0|0|0|0|0|0|0|0|0|0|0|0|1|0|0\n",
            "3|Four Rooms (1995)|01-Jan-1995||http://us.imdb.com/M/title-exact?Four%20Rooms%20(1995)|0|0|0|0|0|0|0|0|0|0|0|0|0|0|0|0|1|0|0\n",
            "4|Get Shorty (1995)|01-Jan-1995||http://us.imdb.com/M/title-exact?Get%20Shorty%20(1995)|0|1|0|0|0|1|0|0|1|0|0|0|0|0|0|0|0|0|0\n",
            "5|Copycat (1995)|01-Jan-1995||http://us.imdb.com/M/title-exact?Copycat%20(1995)|0|0|0|0|0|0|1|0|1|0|0|0|0|0|0|0|1|0|0\n",
            "6|Shanghai Triad (Yao a yao yao dao waipo qiao) (1995)|01-Jan-1995||http://us.imdb.com/Title?Yao+a+yao+yao+dao+waipo+qiao+(1995)|0|0|0|0|0|0|0|0|1|0|0|0|0|0|0|0|0|0|0\n",
            "7|Twelve Monkeys (1995)|01-Jan-1995||http://us.imdb.com/M/title-exact?Twelve%20Monkeys%20(1995)|0|0|0|0|0|0|0|0|1|0|0|0|0|0|0|1|0|0|0\n",
            "8|Babe (1995)|01-Jan-1995||http://us.imdb.com/M/title-exact?Babe%20(1995)|0|0|0|0|1|1|0|0|1|0|0|0|0|0|0|0|0|0|0\n",
            "9|Dead Man Walking (1995)|01-Jan-1995||http://us.imdb.com/M/title-exact?Dead%20Man%20Walking%20(1995)|0|0|0|0|0|0|0|0|1|0|0|0|0|0|0|0|0|0|0\n",
            "10|Richard III (1995)|22-Jan-1996||http://us.imdb.com/M/title-exact?Richard%20III%20(1995)|0|0|0|0|0|0|0|0|1|0|0|0|0|0|0|0|0|1|0\n"
          ]
        }
      ]
    },
    {
      "cell_type": "code",
      "source": [
        "!head u.data"
      ],
      "metadata": {
        "colab": {
          "base_uri": "https://localhost:8080/"
        },
        "id": "LUtXvd6Kbwve",
        "outputId": "777ffff5-6f8e-4106-b60b-4202a478f456"
      },
      "execution_count": 7,
      "outputs": [
        {
          "output_type": "stream",
          "name": "stdout",
          "text": [
            "196\t242\t3\t881250949\n",
            "186\t302\t3\t891717742\n",
            "22\t377\t1\t878887116\n",
            "244\t51\t2\t880606923\n",
            "166\t346\t1\t886397596\n",
            "298\t474\t4\t884182806\n",
            "115\t265\t2\t881171488\n",
            "253\t465\t5\t891628467\n",
            "305\t451\t3\t886324817\n",
            "6\t86\t3\t883603013\n"
          ]
        }
      ]
    },
    {
      "cell_type": "markdown",
      "source": [
        "**In the cells given below. Write the code to read the files.**"
      ],
      "metadata": {
        "id": "PjOtbBWM9xWv"
      }
    },
    {
      "cell_type": "code",
      "execution_count": 4,
      "metadata": {
        "id": "XOoSaKsq68nD"
      },
      "outputs": [],
      "source": [
        "# u.data\n",
        "import pandas as pd\n",
        "ratings = pd.read_csv(\"u.data\", sep=\"\\t\", header=None, names=[\"user_id\", \"movie_id\", \"rating\", \"timestamp\"])\n",
        "\n"
      ]
    },
    {
      "cell_type": "code",
      "source": [
        "# u.item\n",
        "movies = pd.read_csv(\"u.item\", sep=\"|\", encoding=\"latin-1\", header=None, usecols=[0, 1],\n",
        "                     names=[\"movie_id\", \"title\"])\n"
      ],
      "metadata": {
        "id": "dckMko0o9t-D"
      },
      "execution_count": 2,
      "outputs": []
    },
    {
      "cell_type": "code",
      "source": [
        "# u.user\n",
        "users = pd.read_csv(\"u.user\", sep=\"|\", header=None, names=[\"user_id\", \"age\", \"gender\", \"occupation\", \"zip_code\"])"
      ],
      "metadata": {
        "id": "R7kBwpsi-WKB"
      },
      "execution_count": 3,
      "outputs": []
    },
    {
      "cell_type": "markdown",
      "source": [
        "#### Loading the Dataset with Pandas"
      ],
      "metadata": {
        "id": "YnryIHO7-db3"
      }
    },
    {
      "cell_type": "markdown",
      "source": [
        "Use **pandas** to load the dataset into a DataFrame for analysis. Follow these steps:  \n",
        "\n",
        "1. Import the necessary library: `pandas`.  \n",
        "2. Use `pd.read_csv()` (or an appropriate function) to read the dataset file.  \n",
        "3. Ensure the dataset is loaded with the correct delimiter (e.g., `','`, `'\\t'`,`'|'` , or another separator if needed).  \n",
        "4. Select and display the first few rows using `.head()`."
      ],
      "metadata": {
        "id": "Jwmza7riBj30"
      }
    },
    {
      "cell_type": "markdown",
      "source": [
        "Ensure that:  \n",
        "\n",
        "- The `ratings` dataset is read from `\"u.data\"` using tab (`'\\t'`) as a separator and column names (`\"user_id\"`, `\"movie_id\"`, `\"rating\"` and `\"timestamp\"`).  \n",
        "- The `movies` dataset is read from `\"u.item\"` using `'|'` as a separator, use columns (`0`, `1`, `2`), encoding (`\"latin-1\"`) and name the columns (`movie_id`, `title`, and `release_date`).  \n",
        "- The `users` dataset is read from `\"u.user\"` using `'|'` as a separator, use columns (`0`, `1`, `2`, `3`) and name the columns (`user_id`, `age`, `gender`, and `occupation`)."
      ],
      "metadata": {
        "id": "KPEDYYGOBOSD"
      }
    },
    {
      "cell_type": "code",
      "source": [
        "# ratings\n",
        "print(\"Ratings:\\n\", ratings.head())"
      ],
      "metadata": {
        "id": "Go-Y-Ofy-ZTk",
        "colab": {
          "base_uri": "https://localhost:8080/"
        },
        "outputId": "833322fb-efd2-4112-9194-8511591ef5a6"
      },
      "execution_count": 8,
      "outputs": [
        {
          "output_type": "stream",
          "name": "stdout",
          "text": [
            "Ratings:\n",
            "    user_id  movie_id  rating  timestamp\n",
            "0      196       242       3  881250949\n",
            "1      186       302       3  891717742\n",
            "2       22       377       1  878887116\n",
            "3      244        51       2  880606923\n",
            "4      166       346       1  886397596\n"
          ]
        }
      ]
    },
    {
      "cell_type": "code",
      "source": [
        "# movies\n",
        "print(\"Movies:\\n\", movies.head(), \"\\n\")"
      ],
      "metadata": {
        "id": "zM8IJGh-CLN5",
        "colab": {
          "base_uri": "https://localhost:8080/"
        },
        "outputId": "b46bfd8e-422c-4b7c-bc86-81e7c4774c30"
      },
      "execution_count": 9,
      "outputs": [
        {
          "output_type": "stream",
          "name": "stdout",
          "text": [
            "Movies:\n",
            "    movie_id              title\n",
            "0         1   Toy Story (1995)\n",
            "1         2   GoldenEye (1995)\n",
            "2         3  Four Rooms (1995)\n",
            "3         4  Get Shorty (1995)\n",
            "4         5     Copycat (1995) \n",
            "\n"
          ]
        }
      ]
    },
    {
      "cell_type": "code",
      "source": [
        "# users\n",
        "print(\"Users:\\n\", users.head(), \"\\n\")"
      ],
      "metadata": {
        "id": "hsekVjevCNKj",
        "colab": {
          "base_uri": "https://localhost:8080/"
        },
        "outputId": "65511e32-ad19-4df8-9bfe-73a1b00b3c86"
      },
      "execution_count": 10,
      "outputs": [
        {
          "output_type": "stream",
          "name": "stdout",
          "text": [
            "Users:\n",
            "    user_id  age gender  occupation zip_code\n",
            "0        1   24      M  technician    85711\n",
            "1        2   53      F       other    94043\n",
            "2        3   23      M      writer    32067\n",
            "3        4   24      M  technician    43537\n",
            "4        5   33      F       other    15213 \n",
            "\n"
          ]
        }
      ]
    },
    {
      "cell_type": "markdown",
      "source": [
        "**Note:** As a **Bonus** task save the `ratings`, `movies` and `users` dataframe created into a `.csv` file format. <br>\n",
        "**Hint:** Use the `to_csv()` function in pandas to save these DataFrames as CSV files."
      ],
      "metadata": {
        "id": "jE5OHLqt7xeq"
      }
    },
    {
      "cell_type": "code",
      "source": [
        "# ratings\n",
        "ratings.to_csv(\"ratings.csv\", index=False)"
      ],
      "metadata": {
        "id": "Chyv3c4n8wVC"
      },
      "execution_count": 13,
      "outputs": []
    },
    {
      "cell_type": "code",
      "source": [
        "# movies\n",
        "movies.to_csv(\"movies.csv\", index=False)"
      ],
      "metadata": {
        "id": "Gl7zVV3y8wKU"
      },
      "execution_count": 12,
      "outputs": []
    },
    {
      "cell_type": "code",
      "source": [
        "# users\n",
        "users.to_csv(\"users.csv\", index=False)\n",
        "print(\"DataFrames saved as CSV files.\")"
      ],
      "metadata": {
        "id": "0YwVuebp8u46",
        "colab": {
          "base_uri": "https://localhost:8080/"
        },
        "outputId": "13f1a878-4e84-436c-9904-b98a4a59dbe5"
      },
      "execution_count": 14,
      "outputs": [
        {
          "output_type": "stream",
          "name": "stdout",
          "text": [
            "DataFrames saved as CSV files.\n"
          ]
        }
      ]
    },
    {
      "cell_type": "markdown",
      "source": [
        "**Display the first 10 rows of each file.**"
      ],
      "metadata": {
        "id": "s3S1y82cCYxx"
      }
    },
    {
      "cell_type": "code",
      "source": [
        "# ratings\n",
        "ratings.head(10)"
      ],
      "metadata": {
        "id": "x5ZOXTqnCPgw",
        "colab": {
          "base_uri": "https://localhost:8080/",
          "height": 363
        },
        "outputId": "bbc70039-974b-4c21-f813-0b45920fd8c6"
      },
      "execution_count": 17,
      "outputs": [
        {
          "output_type": "execute_result",
          "data": {
            "text/plain": [
              "   user_id  movie_id  rating  timestamp\n",
              "0      196       242       3  881250949\n",
              "1      186       302       3  891717742\n",
              "2       22       377       1  878887116\n",
              "3      244        51       2  880606923\n",
              "4      166       346       1  886397596\n",
              "5      298       474       4  884182806\n",
              "6      115       265       2  881171488\n",
              "7      253       465       5  891628467\n",
              "8      305       451       3  886324817\n",
              "9        6        86       3  883603013"
            ],
            "text/html": [
              "\n",
              "  <div id=\"df-003f6675-a97b-48a3-809a-1f66c60bceaf\" class=\"colab-df-container\">\n",
              "    <div>\n",
              "<style scoped>\n",
              "    .dataframe tbody tr th:only-of-type {\n",
              "        vertical-align: middle;\n",
              "    }\n",
              "\n",
              "    .dataframe tbody tr th {\n",
              "        vertical-align: top;\n",
              "    }\n",
              "\n",
              "    .dataframe thead th {\n",
              "        text-align: right;\n",
              "    }\n",
              "</style>\n",
              "<table border=\"1\" class=\"dataframe\">\n",
              "  <thead>\n",
              "    <tr style=\"text-align: right;\">\n",
              "      <th></th>\n",
              "      <th>user_id</th>\n",
              "      <th>movie_id</th>\n",
              "      <th>rating</th>\n",
              "      <th>timestamp</th>\n",
              "    </tr>\n",
              "  </thead>\n",
              "  <tbody>\n",
              "    <tr>\n",
              "      <th>0</th>\n",
              "      <td>196</td>\n",
              "      <td>242</td>\n",
              "      <td>3</td>\n",
              "      <td>881250949</td>\n",
              "    </tr>\n",
              "    <tr>\n",
              "      <th>1</th>\n",
              "      <td>186</td>\n",
              "      <td>302</td>\n",
              "      <td>3</td>\n",
              "      <td>891717742</td>\n",
              "    </tr>\n",
              "    <tr>\n",
              "      <th>2</th>\n",
              "      <td>22</td>\n",
              "      <td>377</td>\n",
              "      <td>1</td>\n",
              "      <td>878887116</td>\n",
              "    </tr>\n",
              "    <tr>\n",
              "      <th>3</th>\n",
              "      <td>244</td>\n",
              "      <td>51</td>\n",
              "      <td>2</td>\n",
              "      <td>880606923</td>\n",
              "    </tr>\n",
              "    <tr>\n",
              "      <th>4</th>\n",
              "      <td>166</td>\n",
              "      <td>346</td>\n",
              "      <td>1</td>\n",
              "      <td>886397596</td>\n",
              "    </tr>\n",
              "    <tr>\n",
              "      <th>5</th>\n",
              "      <td>298</td>\n",
              "      <td>474</td>\n",
              "      <td>4</td>\n",
              "      <td>884182806</td>\n",
              "    </tr>\n",
              "    <tr>\n",
              "      <th>6</th>\n",
              "      <td>115</td>\n",
              "      <td>265</td>\n",
              "      <td>2</td>\n",
              "      <td>881171488</td>\n",
              "    </tr>\n",
              "    <tr>\n",
              "      <th>7</th>\n",
              "      <td>253</td>\n",
              "      <td>465</td>\n",
              "      <td>5</td>\n",
              "      <td>891628467</td>\n",
              "    </tr>\n",
              "    <tr>\n",
              "      <th>8</th>\n",
              "      <td>305</td>\n",
              "      <td>451</td>\n",
              "      <td>3</td>\n",
              "      <td>886324817</td>\n",
              "    </tr>\n",
              "    <tr>\n",
              "      <th>9</th>\n",
              "      <td>6</td>\n",
              "      <td>86</td>\n",
              "      <td>3</td>\n",
              "      <td>883603013</td>\n",
              "    </tr>\n",
              "  </tbody>\n",
              "</table>\n",
              "</div>\n",
              "    <div class=\"colab-df-buttons\">\n",
              "\n",
              "  <div class=\"colab-df-container\">\n",
              "    <button class=\"colab-df-convert\" onclick=\"convertToInteractive('df-003f6675-a97b-48a3-809a-1f66c60bceaf')\"\n",
              "            title=\"Convert this dataframe to an interactive table.\"\n",
              "            style=\"display:none;\">\n",
              "\n",
              "  <svg xmlns=\"http://www.w3.org/2000/svg\" height=\"24px\" viewBox=\"0 -960 960 960\">\n",
              "    <path d=\"M120-120v-720h720v720H120Zm60-500h600v-160H180v160Zm220 220h160v-160H400v160Zm0 220h160v-160H400v160ZM180-400h160v-160H180v160Zm440 0h160v-160H620v160ZM180-180h160v-160H180v160Zm440 0h160v-160H620v160Z\"/>\n",
              "  </svg>\n",
              "    </button>\n",
              "\n",
              "  <style>\n",
              "    .colab-df-container {\n",
              "      display:flex;\n",
              "      gap: 12px;\n",
              "    }\n",
              "\n",
              "    .colab-df-convert {\n",
              "      background-color: #E8F0FE;\n",
              "      border: none;\n",
              "      border-radius: 50%;\n",
              "      cursor: pointer;\n",
              "      display: none;\n",
              "      fill: #1967D2;\n",
              "      height: 32px;\n",
              "      padding: 0 0 0 0;\n",
              "      width: 32px;\n",
              "    }\n",
              "\n",
              "    .colab-df-convert:hover {\n",
              "      background-color: #E2EBFA;\n",
              "      box-shadow: 0px 1px 2px rgba(60, 64, 67, 0.3), 0px 1px 3px 1px rgba(60, 64, 67, 0.15);\n",
              "      fill: #174EA6;\n",
              "    }\n",
              "\n",
              "    .colab-df-buttons div {\n",
              "      margin-bottom: 4px;\n",
              "    }\n",
              "\n",
              "    [theme=dark] .colab-df-convert {\n",
              "      background-color: #3B4455;\n",
              "      fill: #D2E3FC;\n",
              "    }\n",
              "\n",
              "    [theme=dark] .colab-df-convert:hover {\n",
              "      background-color: #434B5C;\n",
              "      box-shadow: 0px 1px 3px 1px rgba(0, 0, 0, 0.15);\n",
              "      filter: drop-shadow(0px 1px 2px rgba(0, 0, 0, 0.3));\n",
              "      fill: #FFFFFF;\n",
              "    }\n",
              "  </style>\n",
              "\n",
              "    <script>\n",
              "      const buttonEl =\n",
              "        document.querySelector('#df-003f6675-a97b-48a3-809a-1f66c60bceaf button.colab-df-convert');\n",
              "      buttonEl.style.display =\n",
              "        google.colab.kernel.accessAllowed ? 'block' : 'none';\n",
              "\n",
              "      async function convertToInteractive(key) {\n",
              "        const element = document.querySelector('#df-003f6675-a97b-48a3-809a-1f66c60bceaf');\n",
              "        const dataTable =\n",
              "          await google.colab.kernel.invokeFunction('convertToInteractive',\n",
              "                                                    [key], {});\n",
              "        if (!dataTable) return;\n",
              "\n",
              "        const docLinkHtml = 'Like what you see? Visit the ' +\n",
              "          '<a target=\"_blank\" href=https://colab.research.google.com/notebooks/data_table.ipynb>data table notebook</a>'\n",
              "          + ' to learn more about interactive tables.';\n",
              "        element.innerHTML = '';\n",
              "        dataTable['output_type'] = 'display_data';\n",
              "        await google.colab.output.renderOutput(dataTable, element);\n",
              "        const docLink = document.createElement('div');\n",
              "        docLink.innerHTML = docLinkHtml;\n",
              "        element.appendChild(docLink);\n",
              "      }\n",
              "    </script>\n",
              "  </div>\n",
              "\n",
              "\n",
              "<div id=\"df-4e99f79e-2453-4273-97c5-75a98deee9d1\">\n",
              "  <button class=\"colab-df-quickchart\" onclick=\"quickchart('df-4e99f79e-2453-4273-97c5-75a98deee9d1')\"\n",
              "            title=\"Suggest charts\"\n",
              "            style=\"display:none;\">\n",
              "\n",
              "<svg xmlns=\"http://www.w3.org/2000/svg\" height=\"24px\"viewBox=\"0 0 24 24\"\n",
              "     width=\"24px\">\n",
              "    <g>\n",
              "        <path d=\"M19 3H5c-1.1 0-2 .9-2 2v14c0 1.1.9 2 2 2h14c1.1 0 2-.9 2-2V5c0-1.1-.9-2-2-2zM9 17H7v-7h2v7zm4 0h-2V7h2v10zm4 0h-2v-4h2v4z\"/>\n",
              "    </g>\n",
              "</svg>\n",
              "  </button>\n",
              "\n",
              "<style>\n",
              "  .colab-df-quickchart {\n",
              "      --bg-color: #E8F0FE;\n",
              "      --fill-color: #1967D2;\n",
              "      --hover-bg-color: #E2EBFA;\n",
              "      --hover-fill-color: #174EA6;\n",
              "      --disabled-fill-color: #AAA;\n",
              "      --disabled-bg-color: #DDD;\n",
              "  }\n",
              "\n",
              "  [theme=dark] .colab-df-quickchart {\n",
              "      --bg-color: #3B4455;\n",
              "      --fill-color: #D2E3FC;\n",
              "      --hover-bg-color: #434B5C;\n",
              "      --hover-fill-color: #FFFFFF;\n",
              "      --disabled-bg-color: #3B4455;\n",
              "      --disabled-fill-color: #666;\n",
              "  }\n",
              "\n",
              "  .colab-df-quickchart {\n",
              "    background-color: var(--bg-color);\n",
              "    border: none;\n",
              "    border-radius: 50%;\n",
              "    cursor: pointer;\n",
              "    display: none;\n",
              "    fill: var(--fill-color);\n",
              "    height: 32px;\n",
              "    padding: 0;\n",
              "    width: 32px;\n",
              "  }\n",
              "\n",
              "  .colab-df-quickchart:hover {\n",
              "    background-color: var(--hover-bg-color);\n",
              "    box-shadow: 0 1px 2px rgba(60, 64, 67, 0.3), 0 1px 3px 1px rgba(60, 64, 67, 0.15);\n",
              "    fill: var(--button-hover-fill-color);\n",
              "  }\n",
              "\n",
              "  .colab-df-quickchart-complete:disabled,\n",
              "  .colab-df-quickchart-complete:disabled:hover {\n",
              "    background-color: var(--disabled-bg-color);\n",
              "    fill: var(--disabled-fill-color);\n",
              "    box-shadow: none;\n",
              "  }\n",
              "\n",
              "  .colab-df-spinner {\n",
              "    border: 2px solid var(--fill-color);\n",
              "    border-color: transparent;\n",
              "    border-bottom-color: var(--fill-color);\n",
              "    animation:\n",
              "      spin 1s steps(1) infinite;\n",
              "  }\n",
              "\n",
              "  @keyframes spin {\n",
              "    0% {\n",
              "      border-color: transparent;\n",
              "      border-bottom-color: var(--fill-color);\n",
              "      border-left-color: var(--fill-color);\n",
              "    }\n",
              "    20% {\n",
              "      border-color: transparent;\n",
              "      border-left-color: var(--fill-color);\n",
              "      border-top-color: var(--fill-color);\n",
              "    }\n",
              "    30% {\n",
              "      border-color: transparent;\n",
              "      border-left-color: var(--fill-color);\n",
              "      border-top-color: var(--fill-color);\n",
              "      border-right-color: var(--fill-color);\n",
              "    }\n",
              "    40% {\n",
              "      border-color: transparent;\n",
              "      border-right-color: var(--fill-color);\n",
              "      border-top-color: var(--fill-color);\n",
              "    }\n",
              "    60% {\n",
              "      border-color: transparent;\n",
              "      border-right-color: var(--fill-color);\n",
              "    }\n",
              "    80% {\n",
              "      border-color: transparent;\n",
              "      border-right-color: var(--fill-color);\n",
              "      border-bottom-color: var(--fill-color);\n",
              "    }\n",
              "    90% {\n",
              "      border-color: transparent;\n",
              "      border-bottom-color: var(--fill-color);\n",
              "    }\n",
              "  }\n",
              "</style>\n",
              "\n",
              "  <script>\n",
              "    async function quickchart(key) {\n",
              "      const quickchartButtonEl =\n",
              "        document.querySelector('#' + key + ' button');\n",
              "      quickchartButtonEl.disabled = true;  // To prevent multiple clicks.\n",
              "      quickchartButtonEl.classList.add('colab-df-spinner');\n",
              "      try {\n",
              "        const charts = await google.colab.kernel.invokeFunction(\n",
              "            'suggestCharts', [key], {});\n",
              "      } catch (error) {\n",
              "        console.error('Error during call to suggestCharts:', error);\n",
              "      }\n",
              "      quickchartButtonEl.classList.remove('colab-df-spinner');\n",
              "      quickchartButtonEl.classList.add('colab-df-quickchart-complete');\n",
              "    }\n",
              "    (() => {\n",
              "      let quickchartButtonEl =\n",
              "        document.querySelector('#df-4e99f79e-2453-4273-97c5-75a98deee9d1 button');\n",
              "      quickchartButtonEl.style.display =\n",
              "        google.colab.kernel.accessAllowed ? 'block' : 'none';\n",
              "    })();\n",
              "  </script>\n",
              "</div>\n",
              "\n",
              "    </div>\n",
              "  </div>\n"
            ],
            "application/vnd.google.colaboratory.intrinsic+json": {
              "type": "dataframe",
              "variable_name": "ratings",
              "summary": "{\n  \"name\": \"ratings\",\n  \"rows\": 100000,\n  \"fields\": [\n    {\n      \"column\": \"user_id\",\n      \"properties\": {\n        \"dtype\": \"number\",\n        \"std\": 266,\n        \"min\": 1,\n        \"max\": 943,\n        \"num_unique_values\": 943,\n        \"samples\": [\n          262,\n          136,\n          821\n        ],\n        \"semantic_type\": \"\",\n        \"description\": \"\"\n      }\n    },\n    {\n      \"column\": \"movie_id\",\n      \"properties\": {\n        \"dtype\": \"number\",\n        \"std\": 330,\n        \"min\": 1,\n        \"max\": 1682,\n        \"num_unique_values\": 1682,\n        \"samples\": [\n          1557,\n          808,\n          1618\n        ],\n        \"semantic_type\": \"\",\n        \"description\": \"\"\n      }\n    },\n    {\n      \"column\": \"rating\",\n      \"properties\": {\n        \"dtype\": \"number\",\n        \"std\": 1,\n        \"min\": 1,\n        \"max\": 5,\n        \"num_unique_values\": 5,\n        \"samples\": [\n          1,\n          5,\n          2\n        ],\n        \"semantic_type\": \"\",\n        \"description\": \"\"\n      }\n    },\n    {\n      \"column\": \"timestamp\",\n      \"properties\": {\n        \"dtype\": \"number\",\n        \"std\": 5343856,\n        \"min\": 874724710,\n        \"max\": 893286638,\n        \"num_unique_values\": 49282,\n        \"samples\": [\n          889728713,\n          888443306,\n          880605158\n        ],\n        \"semantic_type\": \"\",\n        \"description\": \"\"\n      }\n    }\n  ]\n}"
            }
          },
          "metadata": {},
          "execution_count": 17
        }
      ]
    },
    {
      "cell_type": "code",
      "source": [
        "# movies\n",
        "movies.head(10)"
      ],
      "metadata": {
        "id": "AzuqiRkrCdfZ",
        "colab": {
          "base_uri": "https://localhost:8080/",
          "height": 363
        },
        "outputId": "a5ce692a-7b0a-4777-dc38-e8f00618efa7"
      },
      "execution_count": 16,
      "outputs": [
        {
          "output_type": "execute_result",
          "data": {
            "text/plain": [
              "   movie_id                                              title\n",
              "0         1                                   Toy Story (1995)\n",
              "1         2                                   GoldenEye (1995)\n",
              "2         3                                  Four Rooms (1995)\n",
              "3         4                                  Get Shorty (1995)\n",
              "4         5                                     Copycat (1995)\n",
              "5         6  Shanghai Triad (Yao a yao yao dao waipo qiao) ...\n",
              "6         7                              Twelve Monkeys (1995)\n",
              "7         8                                        Babe (1995)\n",
              "8         9                            Dead Man Walking (1995)\n",
              "9        10                                 Richard III (1995)"
            ],
            "text/html": [
              "\n",
              "  <div id=\"df-5bda5608-f59b-4b46-9155-a25f7c9ee95d\" class=\"colab-df-container\">\n",
              "    <div>\n",
              "<style scoped>\n",
              "    .dataframe tbody tr th:only-of-type {\n",
              "        vertical-align: middle;\n",
              "    }\n",
              "\n",
              "    .dataframe tbody tr th {\n",
              "        vertical-align: top;\n",
              "    }\n",
              "\n",
              "    .dataframe thead th {\n",
              "        text-align: right;\n",
              "    }\n",
              "</style>\n",
              "<table border=\"1\" class=\"dataframe\">\n",
              "  <thead>\n",
              "    <tr style=\"text-align: right;\">\n",
              "      <th></th>\n",
              "      <th>movie_id</th>\n",
              "      <th>title</th>\n",
              "    </tr>\n",
              "  </thead>\n",
              "  <tbody>\n",
              "    <tr>\n",
              "      <th>0</th>\n",
              "      <td>1</td>\n",
              "      <td>Toy Story (1995)</td>\n",
              "    </tr>\n",
              "    <tr>\n",
              "      <th>1</th>\n",
              "      <td>2</td>\n",
              "      <td>GoldenEye (1995)</td>\n",
              "    </tr>\n",
              "    <tr>\n",
              "      <th>2</th>\n",
              "      <td>3</td>\n",
              "      <td>Four Rooms (1995)</td>\n",
              "    </tr>\n",
              "    <tr>\n",
              "      <th>3</th>\n",
              "      <td>4</td>\n",
              "      <td>Get Shorty (1995)</td>\n",
              "    </tr>\n",
              "    <tr>\n",
              "      <th>4</th>\n",
              "      <td>5</td>\n",
              "      <td>Copycat (1995)</td>\n",
              "    </tr>\n",
              "    <tr>\n",
              "      <th>5</th>\n",
              "      <td>6</td>\n",
              "      <td>Shanghai Triad (Yao a yao yao dao waipo qiao) ...</td>\n",
              "    </tr>\n",
              "    <tr>\n",
              "      <th>6</th>\n",
              "      <td>7</td>\n",
              "      <td>Twelve Monkeys (1995)</td>\n",
              "    </tr>\n",
              "    <tr>\n",
              "      <th>7</th>\n",
              "      <td>8</td>\n",
              "      <td>Babe (1995)</td>\n",
              "    </tr>\n",
              "    <tr>\n",
              "      <th>8</th>\n",
              "      <td>9</td>\n",
              "      <td>Dead Man Walking (1995)</td>\n",
              "    </tr>\n",
              "    <tr>\n",
              "      <th>9</th>\n",
              "      <td>10</td>\n",
              "      <td>Richard III (1995)</td>\n",
              "    </tr>\n",
              "  </tbody>\n",
              "</table>\n",
              "</div>\n",
              "    <div class=\"colab-df-buttons\">\n",
              "\n",
              "  <div class=\"colab-df-container\">\n",
              "    <button class=\"colab-df-convert\" onclick=\"convertToInteractive('df-5bda5608-f59b-4b46-9155-a25f7c9ee95d')\"\n",
              "            title=\"Convert this dataframe to an interactive table.\"\n",
              "            style=\"display:none;\">\n",
              "\n",
              "  <svg xmlns=\"http://www.w3.org/2000/svg\" height=\"24px\" viewBox=\"0 -960 960 960\">\n",
              "    <path d=\"M120-120v-720h720v720H120Zm60-500h600v-160H180v160Zm220 220h160v-160H400v160Zm0 220h160v-160H400v160ZM180-400h160v-160H180v160Zm440 0h160v-160H620v160ZM180-180h160v-160H180v160Zm440 0h160v-160H620v160Z\"/>\n",
              "  </svg>\n",
              "    </button>\n",
              "\n",
              "  <style>\n",
              "    .colab-df-container {\n",
              "      display:flex;\n",
              "      gap: 12px;\n",
              "    }\n",
              "\n",
              "    .colab-df-convert {\n",
              "      background-color: #E8F0FE;\n",
              "      border: none;\n",
              "      border-radius: 50%;\n",
              "      cursor: pointer;\n",
              "      display: none;\n",
              "      fill: #1967D2;\n",
              "      height: 32px;\n",
              "      padding: 0 0 0 0;\n",
              "      width: 32px;\n",
              "    }\n",
              "\n",
              "    .colab-df-convert:hover {\n",
              "      background-color: #E2EBFA;\n",
              "      box-shadow: 0px 1px 2px rgba(60, 64, 67, 0.3), 0px 1px 3px 1px rgba(60, 64, 67, 0.15);\n",
              "      fill: #174EA6;\n",
              "    }\n",
              "\n",
              "    .colab-df-buttons div {\n",
              "      margin-bottom: 4px;\n",
              "    }\n",
              "\n",
              "    [theme=dark] .colab-df-convert {\n",
              "      background-color: #3B4455;\n",
              "      fill: #D2E3FC;\n",
              "    }\n",
              "\n",
              "    [theme=dark] .colab-df-convert:hover {\n",
              "      background-color: #434B5C;\n",
              "      box-shadow: 0px 1px 3px 1px rgba(0, 0, 0, 0.15);\n",
              "      filter: drop-shadow(0px 1px 2px rgba(0, 0, 0, 0.3));\n",
              "      fill: #FFFFFF;\n",
              "    }\n",
              "  </style>\n",
              "\n",
              "    <script>\n",
              "      const buttonEl =\n",
              "        document.querySelector('#df-5bda5608-f59b-4b46-9155-a25f7c9ee95d button.colab-df-convert');\n",
              "      buttonEl.style.display =\n",
              "        google.colab.kernel.accessAllowed ? 'block' : 'none';\n",
              "\n",
              "      async function convertToInteractive(key) {\n",
              "        const element = document.querySelector('#df-5bda5608-f59b-4b46-9155-a25f7c9ee95d');\n",
              "        const dataTable =\n",
              "          await google.colab.kernel.invokeFunction('convertToInteractive',\n",
              "                                                    [key], {});\n",
              "        if (!dataTable) return;\n",
              "\n",
              "        const docLinkHtml = 'Like what you see? Visit the ' +\n",
              "          '<a target=\"_blank\" href=https://colab.research.google.com/notebooks/data_table.ipynb>data table notebook</a>'\n",
              "          + ' to learn more about interactive tables.';\n",
              "        element.innerHTML = '';\n",
              "        dataTable['output_type'] = 'display_data';\n",
              "        await google.colab.output.renderOutput(dataTable, element);\n",
              "        const docLink = document.createElement('div');\n",
              "        docLink.innerHTML = docLinkHtml;\n",
              "        element.appendChild(docLink);\n",
              "      }\n",
              "    </script>\n",
              "  </div>\n",
              "\n",
              "\n",
              "<div id=\"df-e2902b87-c3d5-4ea1-acd1-ecb34aba3046\">\n",
              "  <button class=\"colab-df-quickchart\" onclick=\"quickchart('df-e2902b87-c3d5-4ea1-acd1-ecb34aba3046')\"\n",
              "            title=\"Suggest charts\"\n",
              "            style=\"display:none;\">\n",
              "\n",
              "<svg xmlns=\"http://www.w3.org/2000/svg\" height=\"24px\"viewBox=\"0 0 24 24\"\n",
              "     width=\"24px\">\n",
              "    <g>\n",
              "        <path d=\"M19 3H5c-1.1 0-2 .9-2 2v14c0 1.1.9 2 2 2h14c1.1 0 2-.9 2-2V5c0-1.1-.9-2-2-2zM9 17H7v-7h2v7zm4 0h-2V7h2v10zm4 0h-2v-4h2v4z\"/>\n",
              "    </g>\n",
              "</svg>\n",
              "  </button>\n",
              "\n",
              "<style>\n",
              "  .colab-df-quickchart {\n",
              "      --bg-color: #E8F0FE;\n",
              "      --fill-color: #1967D2;\n",
              "      --hover-bg-color: #E2EBFA;\n",
              "      --hover-fill-color: #174EA6;\n",
              "      --disabled-fill-color: #AAA;\n",
              "      --disabled-bg-color: #DDD;\n",
              "  }\n",
              "\n",
              "  [theme=dark] .colab-df-quickchart {\n",
              "      --bg-color: #3B4455;\n",
              "      --fill-color: #D2E3FC;\n",
              "      --hover-bg-color: #434B5C;\n",
              "      --hover-fill-color: #FFFFFF;\n",
              "      --disabled-bg-color: #3B4455;\n",
              "      --disabled-fill-color: #666;\n",
              "  }\n",
              "\n",
              "  .colab-df-quickchart {\n",
              "    background-color: var(--bg-color);\n",
              "    border: none;\n",
              "    border-radius: 50%;\n",
              "    cursor: pointer;\n",
              "    display: none;\n",
              "    fill: var(--fill-color);\n",
              "    height: 32px;\n",
              "    padding: 0;\n",
              "    width: 32px;\n",
              "  }\n",
              "\n",
              "  .colab-df-quickchart:hover {\n",
              "    background-color: var(--hover-bg-color);\n",
              "    box-shadow: 0 1px 2px rgba(60, 64, 67, 0.3), 0 1px 3px 1px rgba(60, 64, 67, 0.15);\n",
              "    fill: var(--button-hover-fill-color);\n",
              "  }\n",
              "\n",
              "  .colab-df-quickchart-complete:disabled,\n",
              "  .colab-df-quickchart-complete:disabled:hover {\n",
              "    background-color: var(--disabled-bg-color);\n",
              "    fill: var(--disabled-fill-color);\n",
              "    box-shadow: none;\n",
              "  }\n",
              "\n",
              "  .colab-df-spinner {\n",
              "    border: 2px solid var(--fill-color);\n",
              "    border-color: transparent;\n",
              "    border-bottom-color: var(--fill-color);\n",
              "    animation:\n",
              "      spin 1s steps(1) infinite;\n",
              "  }\n",
              "\n",
              "  @keyframes spin {\n",
              "    0% {\n",
              "      border-color: transparent;\n",
              "      border-bottom-color: var(--fill-color);\n",
              "      border-left-color: var(--fill-color);\n",
              "    }\n",
              "    20% {\n",
              "      border-color: transparent;\n",
              "      border-left-color: var(--fill-color);\n",
              "      border-top-color: var(--fill-color);\n",
              "    }\n",
              "    30% {\n",
              "      border-color: transparent;\n",
              "      border-left-color: var(--fill-color);\n",
              "      border-top-color: var(--fill-color);\n",
              "      border-right-color: var(--fill-color);\n",
              "    }\n",
              "    40% {\n",
              "      border-color: transparent;\n",
              "      border-right-color: var(--fill-color);\n",
              "      border-top-color: var(--fill-color);\n",
              "    }\n",
              "    60% {\n",
              "      border-color: transparent;\n",
              "      border-right-color: var(--fill-color);\n",
              "    }\n",
              "    80% {\n",
              "      border-color: transparent;\n",
              "      border-right-color: var(--fill-color);\n",
              "      border-bottom-color: var(--fill-color);\n",
              "    }\n",
              "    90% {\n",
              "      border-color: transparent;\n",
              "      border-bottom-color: var(--fill-color);\n",
              "    }\n",
              "  }\n",
              "</style>\n",
              "\n",
              "  <script>\n",
              "    async function quickchart(key) {\n",
              "      const quickchartButtonEl =\n",
              "        document.querySelector('#' + key + ' button');\n",
              "      quickchartButtonEl.disabled = true;  // To prevent multiple clicks.\n",
              "      quickchartButtonEl.classList.add('colab-df-spinner');\n",
              "      try {\n",
              "        const charts = await google.colab.kernel.invokeFunction(\n",
              "            'suggestCharts', [key], {});\n",
              "      } catch (error) {\n",
              "        console.error('Error during call to suggestCharts:', error);\n",
              "      }\n",
              "      quickchartButtonEl.classList.remove('colab-df-spinner');\n",
              "      quickchartButtonEl.classList.add('colab-df-quickchart-complete');\n",
              "    }\n",
              "    (() => {\n",
              "      let quickchartButtonEl =\n",
              "        document.querySelector('#df-e2902b87-c3d5-4ea1-acd1-ecb34aba3046 button');\n",
              "      quickchartButtonEl.style.display =\n",
              "        google.colab.kernel.accessAllowed ? 'block' : 'none';\n",
              "    })();\n",
              "  </script>\n",
              "</div>\n",
              "\n",
              "    </div>\n",
              "  </div>\n"
            ],
            "application/vnd.google.colaboratory.intrinsic+json": {
              "type": "dataframe",
              "variable_name": "movies",
              "summary": "{\n  \"name\": \"movies\",\n  \"rows\": 1682,\n  \"fields\": [\n    {\n      \"column\": \"movie_id\",\n      \"properties\": {\n        \"dtype\": \"number\",\n        \"std\": 485,\n        \"min\": 1,\n        \"max\": 1682,\n        \"num_unique_values\": 1682,\n        \"samples\": [\n          1394,\n          744,\n          1606\n        ],\n        \"semantic_type\": \"\",\n        \"description\": \"\"\n      }\n    },\n    {\n      \"column\": \"title\",\n      \"properties\": {\n        \"dtype\": \"string\",\n        \"num_unique_values\": 1664,\n        \"samples\": [\n          \"Madame Butterfly (1995)\",\n          \"Wrong Trousers, The (1993)\",\n          \"Breaking the Waves (1996)\"\n        ],\n        \"semantic_type\": \"\",\n        \"description\": \"\"\n      }\n    }\n  ]\n}"
            }
          },
          "metadata": {},
          "execution_count": 16
        }
      ]
    },
    {
      "cell_type": "code",
      "source": [
        "# users\n",
        "users.head(10)"
      ],
      "metadata": {
        "id": "FE9hcM9mCewe",
        "colab": {
          "base_uri": "https://localhost:8080/",
          "height": 363
        },
        "outputId": "ab82d6af-cdec-447a-d393-7e3f559370d7"
      },
      "execution_count": 15,
      "outputs": [
        {
          "output_type": "execute_result",
          "data": {
            "text/plain": [
              "   user_id  age gender     occupation zip_code\n",
              "0        1   24      M     technician    85711\n",
              "1        2   53      F          other    94043\n",
              "2        3   23      M         writer    32067\n",
              "3        4   24      M     technician    43537\n",
              "4        5   33      F          other    15213\n",
              "5        6   42      M      executive    98101\n",
              "6        7   57      M  administrator    91344\n",
              "7        8   36      M  administrator    05201\n",
              "8        9   29      M        student    01002\n",
              "9       10   53      M         lawyer    90703"
            ],
            "text/html": [
              "\n",
              "  <div id=\"df-5c248a21-0f61-4ac8-b4b2-b25adc8cfbe0\" class=\"colab-df-container\">\n",
              "    <div>\n",
              "<style scoped>\n",
              "    .dataframe tbody tr th:only-of-type {\n",
              "        vertical-align: middle;\n",
              "    }\n",
              "\n",
              "    .dataframe tbody tr th {\n",
              "        vertical-align: top;\n",
              "    }\n",
              "\n",
              "    .dataframe thead th {\n",
              "        text-align: right;\n",
              "    }\n",
              "</style>\n",
              "<table border=\"1\" class=\"dataframe\">\n",
              "  <thead>\n",
              "    <tr style=\"text-align: right;\">\n",
              "      <th></th>\n",
              "      <th>user_id</th>\n",
              "      <th>age</th>\n",
              "      <th>gender</th>\n",
              "      <th>occupation</th>\n",
              "      <th>zip_code</th>\n",
              "    </tr>\n",
              "  </thead>\n",
              "  <tbody>\n",
              "    <tr>\n",
              "      <th>0</th>\n",
              "      <td>1</td>\n",
              "      <td>24</td>\n",
              "      <td>M</td>\n",
              "      <td>technician</td>\n",
              "      <td>85711</td>\n",
              "    </tr>\n",
              "    <tr>\n",
              "      <th>1</th>\n",
              "      <td>2</td>\n",
              "      <td>53</td>\n",
              "      <td>F</td>\n",
              "      <td>other</td>\n",
              "      <td>94043</td>\n",
              "    </tr>\n",
              "    <tr>\n",
              "      <th>2</th>\n",
              "      <td>3</td>\n",
              "      <td>23</td>\n",
              "      <td>M</td>\n",
              "      <td>writer</td>\n",
              "      <td>32067</td>\n",
              "    </tr>\n",
              "    <tr>\n",
              "      <th>3</th>\n",
              "      <td>4</td>\n",
              "      <td>24</td>\n",
              "      <td>M</td>\n",
              "      <td>technician</td>\n",
              "      <td>43537</td>\n",
              "    </tr>\n",
              "    <tr>\n",
              "      <th>4</th>\n",
              "      <td>5</td>\n",
              "      <td>33</td>\n",
              "      <td>F</td>\n",
              "      <td>other</td>\n",
              "      <td>15213</td>\n",
              "    </tr>\n",
              "    <tr>\n",
              "      <th>5</th>\n",
              "      <td>6</td>\n",
              "      <td>42</td>\n",
              "      <td>M</td>\n",
              "      <td>executive</td>\n",
              "      <td>98101</td>\n",
              "    </tr>\n",
              "    <tr>\n",
              "      <th>6</th>\n",
              "      <td>7</td>\n",
              "      <td>57</td>\n",
              "      <td>M</td>\n",
              "      <td>administrator</td>\n",
              "      <td>91344</td>\n",
              "    </tr>\n",
              "    <tr>\n",
              "      <th>7</th>\n",
              "      <td>8</td>\n",
              "      <td>36</td>\n",
              "      <td>M</td>\n",
              "      <td>administrator</td>\n",
              "      <td>05201</td>\n",
              "    </tr>\n",
              "    <tr>\n",
              "      <th>8</th>\n",
              "      <td>9</td>\n",
              "      <td>29</td>\n",
              "      <td>M</td>\n",
              "      <td>student</td>\n",
              "      <td>01002</td>\n",
              "    </tr>\n",
              "    <tr>\n",
              "      <th>9</th>\n",
              "      <td>10</td>\n",
              "      <td>53</td>\n",
              "      <td>M</td>\n",
              "      <td>lawyer</td>\n",
              "      <td>90703</td>\n",
              "    </tr>\n",
              "  </tbody>\n",
              "</table>\n",
              "</div>\n",
              "    <div class=\"colab-df-buttons\">\n",
              "\n",
              "  <div class=\"colab-df-container\">\n",
              "    <button class=\"colab-df-convert\" onclick=\"convertToInteractive('df-5c248a21-0f61-4ac8-b4b2-b25adc8cfbe0')\"\n",
              "            title=\"Convert this dataframe to an interactive table.\"\n",
              "            style=\"display:none;\">\n",
              "\n",
              "  <svg xmlns=\"http://www.w3.org/2000/svg\" height=\"24px\" viewBox=\"0 -960 960 960\">\n",
              "    <path d=\"M120-120v-720h720v720H120Zm60-500h600v-160H180v160Zm220 220h160v-160H400v160Zm0 220h160v-160H400v160ZM180-400h160v-160H180v160Zm440 0h160v-160H620v160ZM180-180h160v-160H180v160Zm440 0h160v-160H620v160Z\"/>\n",
              "  </svg>\n",
              "    </button>\n",
              "\n",
              "  <style>\n",
              "    .colab-df-container {\n",
              "      display:flex;\n",
              "      gap: 12px;\n",
              "    }\n",
              "\n",
              "    .colab-df-convert {\n",
              "      background-color: #E8F0FE;\n",
              "      border: none;\n",
              "      border-radius: 50%;\n",
              "      cursor: pointer;\n",
              "      display: none;\n",
              "      fill: #1967D2;\n",
              "      height: 32px;\n",
              "      padding: 0 0 0 0;\n",
              "      width: 32px;\n",
              "    }\n",
              "\n",
              "    .colab-df-convert:hover {\n",
              "      background-color: #E2EBFA;\n",
              "      box-shadow: 0px 1px 2px rgba(60, 64, 67, 0.3), 0px 1px 3px 1px rgba(60, 64, 67, 0.15);\n",
              "      fill: #174EA6;\n",
              "    }\n",
              "\n",
              "    .colab-df-buttons div {\n",
              "      margin-bottom: 4px;\n",
              "    }\n",
              "\n",
              "    [theme=dark] .colab-df-convert {\n",
              "      background-color: #3B4455;\n",
              "      fill: #D2E3FC;\n",
              "    }\n",
              "\n",
              "    [theme=dark] .colab-df-convert:hover {\n",
              "      background-color: #434B5C;\n",
              "      box-shadow: 0px 1px 3px 1px rgba(0, 0, 0, 0.15);\n",
              "      filter: drop-shadow(0px 1px 2px rgba(0, 0, 0, 0.3));\n",
              "      fill: #FFFFFF;\n",
              "    }\n",
              "  </style>\n",
              "\n",
              "    <script>\n",
              "      const buttonEl =\n",
              "        document.querySelector('#df-5c248a21-0f61-4ac8-b4b2-b25adc8cfbe0 button.colab-df-convert');\n",
              "      buttonEl.style.display =\n",
              "        google.colab.kernel.accessAllowed ? 'block' : 'none';\n",
              "\n",
              "      async function convertToInteractive(key) {\n",
              "        const element = document.querySelector('#df-5c248a21-0f61-4ac8-b4b2-b25adc8cfbe0');\n",
              "        const dataTable =\n",
              "          await google.colab.kernel.invokeFunction('convertToInteractive',\n",
              "                                                    [key], {});\n",
              "        if (!dataTable) return;\n",
              "\n",
              "        const docLinkHtml = 'Like what you see? Visit the ' +\n",
              "          '<a target=\"_blank\" href=https://colab.research.google.com/notebooks/data_table.ipynb>data table notebook</a>'\n",
              "          + ' to learn more about interactive tables.';\n",
              "        element.innerHTML = '';\n",
              "        dataTable['output_type'] = 'display_data';\n",
              "        await google.colab.output.renderOutput(dataTable, element);\n",
              "        const docLink = document.createElement('div');\n",
              "        docLink.innerHTML = docLinkHtml;\n",
              "        element.appendChild(docLink);\n",
              "      }\n",
              "    </script>\n",
              "  </div>\n",
              "\n",
              "\n",
              "<div id=\"df-773dfe28-60ee-4f19-9c96-fa6f3be7d951\">\n",
              "  <button class=\"colab-df-quickchart\" onclick=\"quickchart('df-773dfe28-60ee-4f19-9c96-fa6f3be7d951')\"\n",
              "            title=\"Suggest charts\"\n",
              "            style=\"display:none;\">\n",
              "\n",
              "<svg xmlns=\"http://www.w3.org/2000/svg\" height=\"24px\"viewBox=\"0 0 24 24\"\n",
              "     width=\"24px\">\n",
              "    <g>\n",
              "        <path d=\"M19 3H5c-1.1 0-2 .9-2 2v14c0 1.1.9 2 2 2h14c1.1 0 2-.9 2-2V5c0-1.1-.9-2-2-2zM9 17H7v-7h2v7zm4 0h-2V7h2v10zm4 0h-2v-4h2v4z\"/>\n",
              "    </g>\n",
              "</svg>\n",
              "  </button>\n",
              "\n",
              "<style>\n",
              "  .colab-df-quickchart {\n",
              "      --bg-color: #E8F0FE;\n",
              "      --fill-color: #1967D2;\n",
              "      --hover-bg-color: #E2EBFA;\n",
              "      --hover-fill-color: #174EA6;\n",
              "      --disabled-fill-color: #AAA;\n",
              "      --disabled-bg-color: #DDD;\n",
              "  }\n",
              "\n",
              "  [theme=dark] .colab-df-quickchart {\n",
              "      --bg-color: #3B4455;\n",
              "      --fill-color: #D2E3FC;\n",
              "      --hover-bg-color: #434B5C;\n",
              "      --hover-fill-color: #FFFFFF;\n",
              "      --disabled-bg-color: #3B4455;\n",
              "      --disabled-fill-color: #666;\n",
              "  }\n",
              "\n",
              "  .colab-df-quickchart {\n",
              "    background-color: var(--bg-color);\n",
              "    border: none;\n",
              "    border-radius: 50%;\n",
              "    cursor: pointer;\n",
              "    display: none;\n",
              "    fill: var(--fill-color);\n",
              "    height: 32px;\n",
              "    padding: 0;\n",
              "    width: 32px;\n",
              "  }\n",
              "\n",
              "  .colab-df-quickchart:hover {\n",
              "    background-color: var(--hover-bg-color);\n",
              "    box-shadow: 0 1px 2px rgba(60, 64, 67, 0.3), 0 1px 3px 1px rgba(60, 64, 67, 0.15);\n",
              "    fill: var(--button-hover-fill-color);\n",
              "  }\n",
              "\n",
              "  .colab-df-quickchart-complete:disabled,\n",
              "  .colab-df-quickchart-complete:disabled:hover {\n",
              "    background-color: var(--disabled-bg-color);\n",
              "    fill: var(--disabled-fill-color);\n",
              "    box-shadow: none;\n",
              "  }\n",
              "\n",
              "  .colab-df-spinner {\n",
              "    border: 2px solid var(--fill-color);\n",
              "    border-color: transparent;\n",
              "    border-bottom-color: var(--fill-color);\n",
              "    animation:\n",
              "      spin 1s steps(1) infinite;\n",
              "  }\n",
              "\n",
              "  @keyframes spin {\n",
              "    0% {\n",
              "      border-color: transparent;\n",
              "      border-bottom-color: var(--fill-color);\n",
              "      border-left-color: var(--fill-color);\n",
              "    }\n",
              "    20% {\n",
              "      border-color: transparent;\n",
              "      border-left-color: var(--fill-color);\n",
              "      border-top-color: var(--fill-color);\n",
              "    }\n",
              "    30% {\n",
              "      border-color: transparent;\n",
              "      border-left-color: var(--fill-color);\n",
              "      border-top-color: var(--fill-color);\n",
              "      border-right-color: var(--fill-color);\n",
              "    }\n",
              "    40% {\n",
              "      border-color: transparent;\n",
              "      border-right-color: var(--fill-color);\n",
              "      border-top-color: var(--fill-color);\n",
              "    }\n",
              "    60% {\n",
              "      border-color: transparent;\n",
              "      border-right-color: var(--fill-color);\n",
              "    }\n",
              "    80% {\n",
              "      border-color: transparent;\n",
              "      border-right-color: var(--fill-color);\n",
              "      border-bottom-color: var(--fill-color);\n",
              "    }\n",
              "    90% {\n",
              "      border-color: transparent;\n",
              "      border-bottom-color: var(--fill-color);\n",
              "    }\n",
              "  }\n",
              "</style>\n",
              "\n",
              "  <script>\n",
              "    async function quickchart(key) {\n",
              "      const quickchartButtonEl =\n",
              "        document.querySelector('#' + key + ' button');\n",
              "      quickchartButtonEl.disabled = true;  // To prevent multiple clicks.\n",
              "      quickchartButtonEl.classList.add('colab-df-spinner');\n",
              "      try {\n",
              "        const charts = await google.colab.kernel.invokeFunction(\n",
              "            'suggestCharts', [key], {});\n",
              "      } catch (error) {\n",
              "        console.error('Error during call to suggestCharts:', error);\n",
              "      }\n",
              "      quickchartButtonEl.classList.remove('colab-df-spinner');\n",
              "      quickchartButtonEl.classList.add('colab-df-quickchart-complete');\n",
              "    }\n",
              "    (() => {\n",
              "      let quickchartButtonEl =\n",
              "        document.querySelector('#df-773dfe28-60ee-4f19-9c96-fa6f3be7d951 button');\n",
              "      quickchartButtonEl.style.display =\n",
              "        google.colab.kernel.accessAllowed ? 'block' : 'none';\n",
              "    })();\n",
              "  </script>\n",
              "</div>\n",
              "\n",
              "    </div>\n",
              "  </div>\n"
            ],
            "application/vnd.google.colaboratory.intrinsic+json": {
              "type": "dataframe",
              "variable_name": "users",
              "summary": "{\n  \"name\": \"users\",\n  \"rows\": 943,\n  \"fields\": [\n    {\n      \"column\": \"user_id\",\n      \"properties\": {\n        \"dtype\": \"number\",\n        \"std\": 272,\n        \"min\": 1,\n        \"max\": 943,\n        \"num_unique_values\": 943,\n        \"samples\": [\n          97,\n          266,\n          811\n        ],\n        \"semantic_type\": \"\",\n        \"description\": \"\"\n      }\n    },\n    {\n      \"column\": \"age\",\n      \"properties\": {\n        \"dtype\": \"number\",\n        \"std\": 12,\n        \"min\": 7,\n        \"max\": 73,\n        \"num_unique_values\": 61,\n        \"samples\": [\n          24,\n          57,\n          52\n        ],\n        \"semantic_type\": \"\",\n        \"description\": \"\"\n      }\n    },\n    {\n      \"column\": \"gender\",\n      \"properties\": {\n        \"dtype\": \"category\",\n        \"num_unique_values\": 2,\n        \"samples\": [\n          \"F\",\n          \"M\"\n        ],\n        \"semantic_type\": \"\",\n        \"description\": \"\"\n      }\n    },\n    {\n      \"column\": \"occupation\",\n      \"properties\": {\n        \"dtype\": \"category\",\n        \"num_unique_values\": 21,\n        \"samples\": [\n          \"technician\",\n          \"healthcare\"\n        ],\n        \"semantic_type\": \"\",\n        \"description\": \"\"\n      }\n    },\n    {\n      \"column\": \"zip_code\",\n      \"properties\": {\n        \"dtype\": \"string\",\n        \"num_unique_values\": 795,\n        \"samples\": [\n          \"90016\",\n          \"15232\"\n        ],\n        \"semantic_type\": \"\",\n        \"description\": \"\"\n      }\n    }\n  ]\n}"
            }
          },
          "metadata": {},
          "execution_count": 15
        }
      ]
    },
    {
      "cell_type": "markdown",
      "source": [
        "### Data Cleaning and Exploration with Pandas  \n",
        "\n",
        "After loading the dataset, it’s important to clean and explore the data to ensure consistency and accuracy. Below are key **pandas** functions for cleaning and understanding the dataset.\n",
        "\n",
        "#### 1. Handle Missing Values  \n",
        "- `df.dropna()` – Removes rows with missing values.  \n",
        "- `df.fillna(value)` – Fills missing values with a specified value.  \n",
        "\n",
        "#### 2. Remove Duplicates  \n",
        "- `df.drop_duplicates()` – Drops duplicate rows from the dataset.  \n",
        "\n",
        "#### 3. Handle Incorrect Data Types  \n",
        "- `df.astype(dtype)` – Converts columns to the appropriate data type.  \n",
        "\n",
        "#### 4. Filter Outliers (if applicable)  \n",
        "- `df[df['column_name'] > threshold]` – Filters rows based on a condition.  \n",
        "\n",
        "#### 5. Rename Columns (if needed)  \n",
        "- `df.rename(columns={'old_name': 'new_name'})` – Renames columns for clarity.  \n",
        "\n",
        "#### 6. Reset Index  \n",
        "- `df.reset_index(drop=True, inplace=True)` – Resets the index after cleaning.  \n",
        "\n",
        "### Data Exploration Functions  \n",
        "\n",
        "To better understand the dataset, use these **pandas** functions:  \n",
        "\n",
        "- `df.shape` – Returns the number of rows and columns in the dataset.  \n",
        "- `df.nunique()` – Displays the number of unique values in each column.  \n",
        "- `df['column_name'].unique()` – Returns unique values in a specific column.  \n",
        "\n",
        "**Example Usage in Pandas:**  \n",
        "```python\n",
        "import pandas as pd\n",
        "\n",
        "# Load dataset\n",
        "df = pd.read_csv(\"your_file.csv\")\n",
        "\n",
        "# Drop missing values\n",
        "df_cleaned = df.dropna()\n",
        "\n",
        "# Remove duplicate rows\n",
        "df_cleaned = df_cleaned.drop_duplicates()\n",
        "\n",
        "# Convert 'timestamp' column to datetime format\n",
        "df_cleaned['timestamp'] = pd.to_datetime(df_cleaned['timestamp'])\n",
        "\n",
        "# Display dataset shape\n",
        "print(\"Dataset shape:\", df_cleaned.shape)\n",
        "\n",
        "# Display number of unique values in each column\n",
        "print(\"Unique values per column:\\n\", df_cleaned.nunique())\n",
        "\n",
        "# Display unique movie IDs\n",
        "print(\"Unique movie IDs:\", df_cleaned['movie_id'].unique()[:10])  # Show first 10 unique movie IDs\n"
      ],
      "metadata": {
        "id": "i38iDIz-DiVj"
      }
    },
    {
      "cell_type": "markdown",
      "source": [
        "**Note:** The functions mentioned above are some of the widely used **pandas** functions for data cleaning and exploration. However, it is not necessary that all of these functions will be required in the exercises below. Use them as needed based on the dataset and the specific tasks."
      ],
      "metadata": {
        "id": "4cwmLON4EItA"
      }
    },
    {
      "cell_type": "markdown",
      "source": [
        "**Convert Timestamps into Readable dates.**"
      ],
      "metadata": {
        "id": "Tn0bLOSACxMP"
      }
    },
    {
      "cell_type": "code",
      "source": [
        "# ratings\n",
        "ratings[\"datetime\"] = pd.to_datetime(ratings[\"timestamp\"], unit=\"s\")\n",
        "ratings.head()"
      ],
      "metadata": {
        "id": "9MwnDxeeCf8b",
        "colab": {
          "base_uri": "https://localhost:8080/",
          "height": 206
        },
        "outputId": "87e75fe1-6e29-4525-ff52-da28a378be0f"
      },
      "execution_count": 19,
      "outputs": [
        {
          "output_type": "execute_result",
          "data": {
            "text/plain": [
              "   user_id  movie_id  rating  timestamp            datetime\n",
              "0      196       242       3  881250949 1997-12-04 15:55:49\n",
              "1      186       302       3  891717742 1998-04-04 19:22:22\n",
              "2       22       377       1  878887116 1997-11-07 07:18:36\n",
              "3      244        51       2  880606923 1997-11-27 05:02:03\n",
              "4      166       346       1  886397596 1998-02-02 05:33:16"
            ],
            "text/html": [
              "\n",
              "  <div id=\"df-2f390458-f638-455e-b20c-5057ef370c19\" class=\"colab-df-container\">\n",
              "    <div>\n",
              "<style scoped>\n",
              "    .dataframe tbody tr th:only-of-type {\n",
              "        vertical-align: middle;\n",
              "    }\n",
              "\n",
              "    .dataframe tbody tr th {\n",
              "        vertical-align: top;\n",
              "    }\n",
              "\n",
              "    .dataframe thead th {\n",
              "        text-align: right;\n",
              "    }\n",
              "</style>\n",
              "<table border=\"1\" class=\"dataframe\">\n",
              "  <thead>\n",
              "    <tr style=\"text-align: right;\">\n",
              "      <th></th>\n",
              "      <th>user_id</th>\n",
              "      <th>movie_id</th>\n",
              "      <th>rating</th>\n",
              "      <th>timestamp</th>\n",
              "      <th>datetime</th>\n",
              "    </tr>\n",
              "  </thead>\n",
              "  <tbody>\n",
              "    <tr>\n",
              "      <th>0</th>\n",
              "      <td>196</td>\n",
              "      <td>242</td>\n",
              "      <td>3</td>\n",
              "      <td>881250949</td>\n",
              "      <td>1997-12-04 15:55:49</td>\n",
              "    </tr>\n",
              "    <tr>\n",
              "      <th>1</th>\n",
              "      <td>186</td>\n",
              "      <td>302</td>\n",
              "      <td>3</td>\n",
              "      <td>891717742</td>\n",
              "      <td>1998-04-04 19:22:22</td>\n",
              "    </tr>\n",
              "    <tr>\n",
              "      <th>2</th>\n",
              "      <td>22</td>\n",
              "      <td>377</td>\n",
              "      <td>1</td>\n",
              "      <td>878887116</td>\n",
              "      <td>1997-11-07 07:18:36</td>\n",
              "    </tr>\n",
              "    <tr>\n",
              "      <th>3</th>\n",
              "      <td>244</td>\n",
              "      <td>51</td>\n",
              "      <td>2</td>\n",
              "      <td>880606923</td>\n",
              "      <td>1997-11-27 05:02:03</td>\n",
              "    </tr>\n",
              "    <tr>\n",
              "      <th>4</th>\n",
              "      <td>166</td>\n",
              "      <td>346</td>\n",
              "      <td>1</td>\n",
              "      <td>886397596</td>\n",
              "      <td>1998-02-02 05:33:16</td>\n",
              "    </tr>\n",
              "  </tbody>\n",
              "</table>\n",
              "</div>\n",
              "    <div class=\"colab-df-buttons\">\n",
              "\n",
              "  <div class=\"colab-df-container\">\n",
              "    <button class=\"colab-df-convert\" onclick=\"convertToInteractive('df-2f390458-f638-455e-b20c-5057ef370c19')\"\n",
              "            title=\"Convert this dataframe to an interactive table.\"\n",
              "            style=\"display:none;\">\n",
              "\n",
              "  <svg xmlns=\"http://www.w3.org/2000/svg\" height=\"24px\" viewBox=\"0 -960 960 960\">\n",
              "    <path d=\"M120-120v-720h720v720H120Zm60-500h600v-160H180v160Zm220 220h160v-160H400v160Zm0 220h160v-160H400v160ZM180-400h160v-160H180v160Zm440 0h160v-160H620v160ZM180-180h160v-160H180v160Zm440 0h160v-160H620v160Z\"/>\n",
              "  </svg>\n",
              "    </button>\n",
              "\n",
              "  <style>\n",
              "    .colab-df-container {\n",
              "      display:flex;\n",
              "      gap: 12px;\n",
              "    }\n",
              "\n",
              "    .colab-df-convert {\n",
              "      background-color: #E8F0FE;\n",
              "      border: none;\n",
              "      border-radius: 50%;\n",
              "      cursor: pointer;\n",
              "      display: none;\n",
              "      fill: #1967D2;\n",
              "      height: 32px;\n",
              "      padding: 0 0 0 0;\n",
              "      width: 32px;\n",
              "    }\n",
              "\n",
              "    .colab-df-convert:hover {\n",
              "      background-color: #E2EBFA;\n",
              "      box-shadow: 0px 1px 2px rgba(60, 64, 67, 0.3), 0px 1px 3px 1px rgba(60, 64, 67, 0.15);\n",
              "      fill: #174EA6;\n",
              "    }\n",
              "\n",
              "    .colab-df-buttons div {\n",
              "      margin-bottom: 4px;\n",
              "    }\n",
              "\n",
              "    [theme=dark] .colab-df-convert {\n",
              "      background-color: #3B4455;\n",
              "      fill: #D2E3FC;\n",
              "    }\n",
              "\n",
              "    [theme=dark] .colab-df-convert:hover {\n",
              "      background-color: #434B5C;\n",
              "      box-shadow: 0px 1px 3px 1px rgba(0, 0, 0, 0.15);\n",
              "      filter: drop-shadow(0px 1px 2px rgba(0, 0, 0, 0.3));\n",
              "      fill: #FFFFFF;\n",
              "    }\n",
              "  </style>\n",
              "\n",
              "    <script>\n",
              "      const buttonEl =\n",
              "        document.querySelector('#df-2f390458-f638-455e-b20c-5057ef370c19 button.colab-df-convert');\n",
              "      buttonEl.style.display =\n",
              "        google.colab.kernel.accessAllowed ? 'block' : 'none';\n",
              "\n",
              "      async function convertToInteractive(key) {\n",
              "        const element = document.querySelector('#df-2f390458-f638-455e-b20c-5057ef370c19');\n",
              "        const dataTable =\n",
              "          await google.colab.kernel.invokeFunction('convertToInteractive',\n",
              "                                                    [key], {});\n",
              "        if (!dataTable) return;\n",
              "\n",
              "        const docLinkHtml = 'Like what you see? Visit the ' +\n",
              "          '<a target=\"_blank\" href=https://colab.research.google.com/notebooks/data_table.ipynb>data table notebook</a>'\n",
              "          + ' to learn more about interactive tables.';\n",
              "        element.innerHTML = '';\n",
              "        dataTable['output_type'] = 'display_data';\n",
              "        await google.colab.output.renderOutput(dataTable, element);\n",
              "        const docLink = document.createElement('div');\n",
              "        docLink.innerHTML = docLinkHtml;\n",
              "        element.appendChild(docLink);\n",
              "      }\n",
              "    </script>\n",
              "  </div>\n",
              "\n",
              "\n",
              "<div id=\"df-be27283e-89b0-4fb6-8003-3dd02698621e\">\n",
              "  <button class=\"colab-df-quickchart\" onclick=\"quickchart('df-be27283e-89b0-4fb6-8003-3dd02698621e')\"\n",
              "            title=\"Suggest charts\"\n",
              "            style=\"display:none;\">\n",
              "\n",
              "<svg xmlns=\"http://www.w3.org/2000/svg\" height=\"24px\"viewBox=\"0 0 24 24\"\n",
              "     width=\"24px\">\n",
              "    <g>\n",
              "        <path d=\"M19 3H5c-1.1 0-2 .9-2 2v14c0 1.1.9 2 2 2h14c1.1 0 2-.9 2-2V5c0-1.1-.9-2-2-2zM9 17H7v-7h2v7zm4 0h-2V7h2v10zm4 0h-2v-4h2v4z\"/>\n",
              "    </g>\n",
              "</svg>\n",
              "  </button>\n",
              "\n",
              "<style>\n",
              "  .colab-df-quickchart {\n",
              "      --bg-color: #E8F0FE;\n",
              "      --fill-color: #1967D2;\n",
              "      --hover-bg-color: #E2EBFA;\n",
              "      --hover-fill-color: #174EA6;\n",
              "      --disabled-fill-color: #AAA;\n",
              "      --disabled-bg-color: #DDD;\n",
              "  }\n",
              "\n",
              "  [theme=dark] .colab-df-quickchart {\n",
              "      --bg-color: #3B4455;\n",
              "      --fill-color: #D2E3FC;\n",
              "      --hover-bg-color: #434B5C;\n",
              "      --hover-fill-color: #FFFFFF;\n",
              "      --disabled-bg-color: #3B4455;\n",
              "      --disabled-fill-color: #666;\n",
              "  }\n",
              "\n",
              "  .colab-df-quickchart {\n",
              "    background-color: var(--bg-color);\n",
              "    border: none;\n",
              "    border-radius: 50%;\n",
              "    cursor: pointer;\n",
              "    display: none;\n",
              "    fill: var(--fill-color);\n",
              "    height: 32px;\n",
              "    padding: 0;\n",
              "    width: 32px;\n",
              "  }\n",
              "\n",
              "  .colab-df-quickchart:hover {\n",
              "    background-color: var(--hover-bg-color);\n",
              "    box-shadow: 0 1px 2px rgba(60, 64, 67, 0.3), 0 1px 3px 1px rgba(60, 64, 67, 0.15);\n",
              "    fill: var(--button-hover-fill-color);\n",
              "  }\n",
              "\n",
              "  .colab-df-quickchart-complete:disabled,\n",
              "  .colab-df-quickchart-complete:disabled:hover {\n",
              "    background-color: var(--disabled-bg-color);\n",
              "    fill: var(--disabled-fill-color);\n",
              "    box-shadow: none;\n",
              "  }\n",
              "\n",
              "  .colab-df-spinner {\n",
              "    border: 2px solid var(--fill-color);\n",
              "    border-color: transparent;\n",
              "    border-bottom-color: var(--fill-color);\n",
              "    animation:\n",
              "      spin 1s steps(1) infinite;\n",
              "  }\n",
              "\n",
              "  @keyframes spin {\n",
              "    0% {\n",
              "      border-color: transparent;\n",
              "      border-bottom-color: var(--fill-color);\n",
              "      border-left-color: var(--fill-color);\n",
              "    }\n",
              "    20% {\n",
              "      border-color: transparent;\n",
              "      border-left-color: var(--fill-color);\n",
              "      border-top-color: var(--fill-color);\n",
              "    }\n",
              "    30% {\n",
              "      border-color: transparent;\n",
              "      border-left-color: var(--fill-color);\n",
              "      border-top-color: var(--fill-color);\n",
              "      border-right-color: var(--fill-color);\n",
              "    }\n",
              "    40% {\n",
              "      border-color: transparent;\n",
              "      border-right-color: var(--fill-color);\n",
              "      border-top-color: var(--fill-color);\n",
              "    }\n",
              "    60% {\n",
              "      border-color: transparent;\n",
              "      border-right-color: var(--fill-color);\n",
              "    }\n",
              "    80% {\n",
              "      border-color: transparent;\n",
              "      border-right-color: var(--fill-color);\n",
              "      border-bottom-color: var(--fill-color);\n",
              "    }\n",
              "    90% {\n",
              "      border-color: transparent;\n",
              "      border-bottom-color: var(--fill-color);\n",
              "    }\n",
              "  }\n",
              "</style>\n",
              "\n",
              "  <script>\n",
              "    async function quickchart(key) {\n",
              "      const quickchartButtonEl =\n",
              "        document.querySelector('#' + key + ' button');\n",
              "      quickchartButtonEl.disabled = true;  // To prevent multiple clicks.\n",
              "      quickchartButtonEl.classList.add('colab-df-spinner');\n",
              "      try {\n",
              "        const charts = await google.colab.kernel.invokeFunction(\n",
              "            'suggestCharts', [key], {});\n",
              "      } catch (error) {\n",
              "        console.error('Error during call to suggestCharts:', error);\n",
              "      }\n",
              "      quickchartButtonEl.classList.remove('colab-df-spinner');\n",
              "      quickchartButtonEl.classList.add('colab-df-quickchart-complete');\n",
              "    }\n",
              "    (() => {\n",
              "      let quickchartButtonEl =\n",
              "        document.querySelector('#df-be27283e-89b0-4fb6-8003-3dd02698621e button');\n",
              "      quickchartButtonEl.style.display =\n",
              "        google.colab.kernel.accessAllowed ? 'block' : 'none';\n",
              "    })();\n",
              "  </script>\n",
              "</div>\n",
              "\n",
              "    </div>\n",
              "  </div>\n"
            ],
            "application/vnd.google.colaboratory.intrinsic+json": {
              "type": "dataframe",
              "variable_name": "ratings",
              "summary": "{\n  \"name\": \"ratings\",\n  \"rows\": 100000,\n  \"fields\": [\n    {\n      \"column\": \"user_id\",\n      \"properties\": {\n        \"dtype\": \"number\",\n        \"std\": 266,\n        \"min\": 1,\n        \"max\": 943,\n        \"num_unique_values\": 943,\n        \"samples\": [\n          262,\n          136,\n          821\n        ],\n        \"semantic_type\": \"\",\n        \"description\": \"\"\n      }\n    },\n    {\n      \"column\": \"movie_id\",\n      \"properties\": {\n        \"dtype\": \"number\",\n        \"std\": 330,\n        \"min\": 1,\n        \"max\": 1682,\n        \"num_unique_values\": 1682,\n        \"samples\": [\n          1557,\n          808,\n          1618\n        ],\n        \"semantic_type\": \"\",\n        \"description\": \"\"\n      }\n    },\n    {\n      \"column\": \"rating\",\n      \"properties\": {\n        \"dtype\": \"number\",\n        \"std\": 1,\n        \"min\": 1,\n        \"max\": 5,\n        \"num_unique_values\": 5,\n        \"samples\": [\n          1,\n          5,\n          2\n        ],\n        \"semantic_type\": \"\",\n        \"description\": \"\"\n      }\n    },\n    {\n      \"column\": \"timestamp\",\n      \"properties\": {\n        \"dtype\": \"number\",\n        \"std\": 5343856,\n        \"min\": 874724710,\n        \"max\": 893286638,\n        \"num_unique_values\": 49282,\n        \"samples\": [\n          889728713,\n          888443306,\n          880605158\n        ],\n        \"semantic_type\": \"\",\n        \"description\": \"\"\n      }\n    },\n    {\n      \"column\": \"datetime\",\n      \"properties\": {\n        \"dtype\": \"date\",\n        \"min\": \"1997-09-20 03:05:10\",\n        \"max\": \"1998-04-22 23:10:38\",\n        \"num_unique_values\": 49282,\n        \"samples\": [\n          \"1998-03-12 18:51:53\",\n          \"1998-02-25 21:48:26\",\n          \"1997-11-27 04:32:38\"\n        ],\n        \"semantic_type\": \"\",\n        \"description\": \"\"\n      }\n    }\n  ]\n}"
            }
          },
          "metadata": {},
          "execution_count": 19
        }
      ]
    },
    {
      "cell_type": "markdown",
      "source": [
        "**Check for Missing Values**"
      ],
      "metadata": {
        "id": "oKJB0a9CE0Z4"
      }
    },
    {
      "cell_type": "code",
      "source": [
        "# ratings\n",
        "print(\"Missing values in ratings.csv:\\n\", ratings.isnull().sum(), \"\\n\")\n"
      ],
      "metadata": {
        "id": "iYf4NM47DL7q",
        "colab": {
          "base_uri": "https://localhost:8080/"
        },
        "outputId": "ddcda4f8-2db4-4781-9266-d080c7d04e34"
      },
      "execution_count": 22,
      "outputs": [
        {
          "output_type": "stream",
          "name": "stdout",
          "text": [
            "Missing values in ratings.csv:\n",
            " user_id      0\n",
            "movie_id     0\n",
            "rating       0\n",
            "timestamp    0\n",
            "datetime     0\n",
            "dtype: int64 \n",
            "\n"
          ]
        }
      ]
    },
    {
      "cell_type": "code",
      "source": [
        "# movies\n",
        "print(\"Missing values in movies.csv:\\n\", movies.isnull().sum(), \"\\n\")"
      ],
      "metadata": {
        "id": "hgM78fNaFH2q",
        "colab": {
          "base_uri": "https://localhost:8080/"
        },
        "outputId": "32eaa9dc-4573-43ea-a14b-599ad9c49ff4"
      },
      "execution_count": 21,
      "outputs": [
        {
          "output_type": "stream",
          "name": "stdout",
          "text": [
            "Missing values in movies.csv:\n",
            " movie_id    0\n",
            "title       0\n",
            "dtype: int64 \n",
            "\n"
          ]
        }
      ]
    },
    {
      "cell_type": "code",
      "source": [
        "# users\n",
        "print(\"Missing values in users.csv:\\n\", users.isnull().sum(), \"\\n\")"
      ],
      "metadata": {
        "id": "jE8J_cajFA5n",
        "colab": {
          "base_uri": "https://localhost:8080/"
        },
        "outputId": "2355f942-baf5-46d1-c19b-1b074fcb9342"
      },
      "execution_count": 20,
      "outputs": [
        {
          "output_type": "stream",
          "name": "stdout",
          "text": [
            "Missing values in users.csv:\n",
            " user_id       0\n",
            "age           0\n",
            "gender        0\n",
            "occupation    0\n",
            "zip_code      0\n",
            "dtype: int64 \n",
            "\n"
          ]
        }
      ]
    },
    {
      "cell_type": "markdown",
      "source": [
        "**Print the total number of users, movies, and ratings.**"
      ],
      "metadata": {
        "id": "1WviFe7iFRoQ"
      }
    },
    {
      "cell_type": "code",
      "source": [
        "print(f\"Total Users: {users['user_id'].nunique()}\")\n",
        "print(f\"Total Movies: {movies['movie_id'].nunique()}\")\n",
        "print(f\"Total Ratings: {len(ratings)}\")"
      ],
      "metadata": {
        "id": "eR_QgS9aFTPb",
        "colab": {
          "base_uri": "https://localhost:8080/"
        },
        "outputId": "ac0e101f-50c2-495a-a712-441afdd3d40b"
      },
      "execution_count": 23,
      "outputs": [
        {
          "output_type": "stream",
          "name": "stdout",
          "text": [
            "Total Users: 943\n",
            "Total Movies: 1682\n",
            "Total Ratings: 100000\n"
          ]
        }
      ]
    },
    {
      "cell_type": "markdown",
      "source": [
        "## **Part 2: Collaborative Filtering-Based Recommendation**"
      ],
      "metadata": {
        "id": "NjxACjUgFwsk"
      }
    },
    {
      "cell_type": "markdown",
      "source": [
        "### **Create a User-Item Matrix**"
      ],
      "metadata": {
        "id": "AyeSaLpRGYuC"
      }
    },
    {
      "cell_type": "markdown",
      "source": [
        "#### Instructions for Creating a User-Movie Rating Matrix"
      ],
      "metadata": {
        "id": "3tKsv-7XHRq2"
      }
    },
    {
      "cell_type": "markdown",
      "source": [
        "In this exercise, you will create a user-movie rating matrix using **pandas**. This matrix will represent the ratings that users have given to different movies.\n",
        "\n",
        "1. **Dataset Overview**:  \n",
        "   The dataset has already been loaded. It includes the following key columns:\n",
        "   - `user_id`: The ID of the user.\n",
        "   - `movie_id`: The ID of the movie.\n",
        "   - `ratings`: The rating the user gave to the movie.\n",
        "\n",
        "2. **Create the User-Movie Rating Matrix**:  \n",
        "   Use the **`pivot()`** function in **pandas** to reshape the data. Your goal is to create a matrix where:\n",
        "   - Each **row** represents a **user**.\n",
        "   - Each **column** represents a **movie**.\n",
        "   - Each **cell** contains the **rating** that the user has given to the movie.\n",
        "\n",
        "   Specify the following parameters for the `pivot()` function:\n",
        "   - **`index`**: The `user_id` column (this will define the rows).\n",
        "   - **`columns`**: The `movie_id` column (this will define the columns).\n",
        "   - **`values`**: The `rating` column (this will fill the matrix with ratings).\n",
        "\n",
        "3. **Inspect the Matrix**:  \n",
        "   After creating the matrix, examine the first few rows of the resulting matrix to ensure it has been constructed correctly.\n",
        "\n",
        "4. **Handle Missing Values**:  \n",
        "   It's likely that some users have not rated every movie, resulting in `NaN` values in the matrix. You will need to handle these missing values. Consider the following options:\n",
        "   - **Fill with 0**: If you wish to represent missing ratings as zeros (indicating no rating).\n",
        "   - **Fill with the average rating**: Alternatively, replace missing values with the average rating for each movie."
      ],
      "metadata": {
        "id": "lLayr0YbH4tB"
      }
    },
    {
      "cell_type": "markdown",
      "source": [
        "**Create the user-movie rating matrix using the `pivot()` function.**"
      ],
      "metadata": {
        "id": "E_cdPXYeaD-l"
      }
    },
    {
      "cell_type": "code",
      "source": [
        "user_movie_matrix = ratings.pivot(index=\"user_id\", columns=\"movie_id\", values=\"rating\")"
      ],
      "metadata": {
        "id": "Ie858yKEUSfc"
      },
      "execution_count": 24,
      "outputs": []
    },
    {
      "cell_type": "markdown",
      "source": [
        "**Display the matrix to verify the transformation.**"
      ],
      "metadata": {
        "id": "tyb3h9FmaVGH"
      }
    },
    {
      "cell_type": "code",
      "source": [
        "print(\"User-Movie Rating Matrix (with NaNs):\")\n",
        "print(user_movie_matrix.head())"
      ],
      "metadata": {
        "id": "16abaOrXabN_",
        "colab": {
          "base_uri": "https://localhost:8080/"
        },
        "outputId": "5514983f-810c-4dcb-ef4e-af11d4fb3f26"
      },
      "execution_count": 25,
      "outputs": [
        {
          "output_type": "stream",
          "name": "stdout",
          "text": [
            "User-Movie Rating Matrix (with NaNs):\n",
            "movie_id  1     2     3     4     5     6     7     8     9     10    ...  \\\n",
            "user_id                                                               ...   \n",
            "1          5.0   3.0   4.0   3.0   3.0   5.0   4.0   1.0   5.0   3.0  ...   \n",
            "2          4.0   NaN   NaN   NaN   NaN   NaN   NaN   NaN   NaN   2.0  ...   \n",
            "3          NaN   NaN   NaN   NaN   NaN   NaN   NaN   NaN   NaN   NaN  ...   \n",
            "4          NaN   NaN   NaN   NaN   NaN   NaN   NaN   NaN   NaN   NaN  ...   \n",
            "5          4.0   3.0   NaN   NaN   NaN   NaN   NaN   NaN   NaN   NaN  ...   \n",
            "\n",
            "movie_id  1673  1674  1675  1676  1677  1678  1679  1680  1681  1682  \n",
            "user_id                                                               \n",
            "1          NaN   NaN   NaN   NaN   NaN   NaN   NaN   NaN   NaN   NaN  \n",
            "2          NaN   NaN   NaN   NaN   NaN   NaN   NaN   NaN   NaN   NaN  \n",
            "3          NaN   NaN   NaN   NaN   NaN   NaN   NaN   NaN   NaN   NaN  \n",
            "4          NaN   NaN   NaN   NaN   NaN   NaN   NaN   NaN   NaN   NaN  \n",
            "5          NaN   NaN   NaN   NaN   NaN   NaN   NaN   NaN   NaN   NaN  \n",
            "\n",
            "[5 rows x 1682 columns]\n"
          ]
        }
      ]
    },
    {
      "cell_type": "code",
      "source": [
        "#Fill missing values with the average rating per movie\n",
        "user_movie_matrix_filled_avg = user_movie_matrix.apply(lambda col: col.fillna(col.mean()), axis=0)\n",
        "print(\"\\nUser-Movie Matrix with NaNs filled with movie average:\")\n",
        "print(user_movie_matrix_filled_avg.head())"
      ],
      "metadata": {
        "colab": {
          "base_uri": "https://localhost:8080/"
        },
        "id": "mWBdVSeIhCjU",
        "outputId": "79a6ca46-69e8-4b23-d555-b05d1c13209c"
      },
      "execution_count": 27,
      "outputs": [
        {
          "output_type": "stream",
          "name": "stdout",
          "text": [
            "\n",
            "User-Movie Matrix with NaNs filled with movie average:\n",
            "movie_id      1         2         3         4         5         6     \\\n",
            "user_id                                                                \n",
            "1         5.000000  3.000000  4.000000  3.000000  3.000000  5.000000   \n",
            "2         4.000000  3.206107  3.033333  3.550239  3.302326  3.576923   \n",
            "3         3.878319  3.206107  3.033333  3.550239  3.302326  3.576923   \n",
            "4         3.878319  3.206107  3.033333  3.550239  3.302326  3.576923   \n",
            "5         4.000000  3.000000  3.033333  3.550239  3.302326  3.576923   \n",
            "\n",
            "movie_id      7         8         9         10    ...  1673  1674  1675  1676  \\\n",
            "user_id                                           ...                           \n",
            "1         4.000000  1.000000  5.000000  3.000000  ...   3.0   4.0   3.0   2.0   \n",
            "2         3.798469  3.995434  3.896321  2.000000  ...   3.0   4.0   3.0   2.0   \n",
            "3         3.798469  3.995434  3.896321  3.831461  ...   3.0   4.0   3.0   2.0   \n",
            "4         3.798469  3.995434  3.896321  3.831461  ...   3.0   4.0   3.0   2.0   \n",
            "5         3.798469  3.995434  3.896321  3.831461  ...   3.0   4.0   3.0   2.0   \n",
            "\n",
            "movie_id  1677  1678  1679  1680  1681  1682  \n",
            "user_id                                       \n",
            "1          3.0   1.0   3.0   2.0   3.0   3.0  \n",
            "2          3.0   1.0   3.0   2.0   3.0   3.0  \n",
            "3          3.0   1.0   3.0   2.0   3.0   3.0  \n",
            "4          3.0   1.0   3.0   2.0   3.0   3.0  \n",
            "5          3.0   1.0   3.0   2.0   3.0   3.0  \n",
            "\n",
            "[5 rows x 1682 columns]\n"
          ]
        }
      ]
    },
    {
      "cell_type": "markdown",
      "source": [
        "### **User-Based Collaborative Filtering Recommender System**"
      ],
      "metadata": {
        "id": "fOXp00QSbtHk"
      }
    },
    {
      "cell_type": "markdown",
      "source": [
        "#### **Objective**\n",
        "In this task, you will implement a **user-based collaborative filtering** movie recommendation system using the **Movie dataset**. The goal is to recommend movies to a user based on the preferences of similar users."
      ],
      "metadata": {
        "id": "FwKBZk5Sc7YA"
      }
    },
    {
      "cell_type": "markdown",
      "source": [
        "##### **Step 1: Import Required Libraries**\n",
        "Before starting, ensure you have the necessary libraries installed. Use the following imports:\n",
        "\n",
        "```python\n",
        "import pandas as pd  # For handling data\n",
        "import numpy as np   # For numerical computations\n",
        "from sklearn.metrics.pairwise import cosine_similarity  # For computing user similarity\n",
        "```"
      ],
      "metadata": {
        "id": "fZf-Nu2rdPHR"
      }
    },
    {
      "cell_type": "markdown",
      "source": [
        "##### **Step 2: Compute User-User Similarity**\n",
        "- We will use **cosine similarity** to measure how similar each pair of users is based on their movie ratings.\n",
        "- Since `cosine_similarity` does not handle missing values (NaN), replace them with `0` before computation."
      ],
      "metadata": {
        "id": "qzJNshMbdwyR"
      }
    },
    {
      "cell_type": "markdown",
      "source": [
        "##### **Instructions:**\n",
        "1. Fill missing values with `0` using `.fillna(0)`.\n",
        "2. Compute similarity using `cosine_similarity()`.\n",
        "3. Convert the result into a **Pandas DataFrame**, with users as both row and column labels.\n",
        "\n",
        "##### **Hint:**  \n",
        "You can achieve this using the following approach:\n",
        "\n",
        "```python\n",
        "user_similarity = cosine_similarity(user_movie_matrix.fillna(0))\n",
        "user_sim_df = pd.DataFrame(user_similarity, index=user_movie_matrix.index, columns=user_movie_matrix.index)\n",
        "```"
      ],
      "metadata": {
        "id": "pkO_XtPqd4Sw"
      }
    },
    {
      "cell_type": "markdown",
      "source": [
        "##### **Step 3: Implement the Recommendation Function**\n",
        "Now, implement the function `recommend_movies_for_user(user_id, num=5)` to recommend movies for a given user.\n",
        "\n",
        "##### **Function Inputs:**\n",
        "- `user_id`: The target user for whom we need recommendations.\n",
        "- `num`: The number of movies to recommend (default is 5).\n",
        "\n",
        "##### **Function Steps:**\n",
        "1. Find **similar users**:\n",
        "   - Retrieve the similarity scores for the given `user_id`.\n",
        "   - Sort them in **descending** order (highest similarity first).\n",
        "   - Exclude the user themselves.\n",
        "   \n",
        "2. Get the **movie ratings** from these similar users.\n",
        "\n",
        "3. Compute the **average rating** for each movie based on these users' preferences.\n",
        "\n",
        "4. Sort the movies in **descending order** based on the computed average ratings.\n",
        "\n",
        "5. Retrieve the **top `num` recommended movies**.\n",
        "\n",
        "6. Map **movie IDs** to their **titles** using the `movies` DataFrame.\n",
        "\n",
        "7. Return the results as a **Pandas DataFrame** with rankings."
      ],
      "metadata": {
        "id": "NtmluaSGeBE-"
      }
    },
    {
      "cell_type": "markdown",
      "source": [
        "##### **Step 4: Return the Final Recommendation List**\n",
        "Your function should return a **DataFrame** structured as follows:\n",
        "\n",
        "| Ranking | Movie Name |\n",
        "|---------|-----------|\n",
        "| 1       | Movie A   |\n",
        "| 2       | Movie B   |\n",
        "| 3       | Movie C   |\n",
        "| 4       | Movie D   |\n",
        "| 5       | Movie E   |\n",
        "\n",
        "##### **Hint:** Your final DataFrame should be created like this:\n",
        "```python\n",
        "result_df = pd.DataFrame({\n",
        "    'Ranking': range(1, num+1),\n",
        "    'Movie Name': movie_names     \n",
        "})\n",
        "result_df.set_index('Ranking', inplace=True)\n",
        "```\n",
        "\n",
        "#### **Example: User-Based Collaborative Filtering**\n",
        "```python\n",
        "recommend_movies_for_user(10, num = 5)\n",
        "```\n",
        "**Output:**\n",
        "```\n",
        "| Ranking | Movie Name                     |\n",
        "|---------|--------------------------------|\n",
        "| 1       | In the Company of Men (1997)   |\n",
        "| 2       | Misérables, Les (1995)         |\n",
        "| 3       | Thin Blue Line, The (1988)     |\n",
        "| 4       | Braindead (1992)               |\n",
        "| 5       | Boys, Les (1997)               |\n"
      ],
      "metadata": {
        "id": "SgO0zd8LeGJ_"
      }
    },
    {
      "cell_type": "markdown",
      "source": [
        "# Code explanation\n",
        "\n",
        "* The code builds a user-movie rating matrix using pivot() where each row is a user, each column is a movie, and each cell is a rating, with missing values filled with 0.\n",
        "\n",
        "* It computes user-to-user similarities using cosine similarity, producing a similarity matrix where each value indicates how similar two users are in their movie preferences.\n",
        "\n",
        "* The function recommend_movies_for_user(user_id, num=5) takes a user ID and recommends the top N movies they haven't rated, based on what similar users liked.\n",
        "\n",
        "* For each movie that the target user hasn’t rated, the function calculates a weighted average rating using the ratings from similar users, weighted by their similarity scores.\n",
        "\n",
        "* It ranks the movies by predicted rating, retrieves their titles, and returns a ranked list of recommendations as a DataFrame, allowing personalized suggestions based on the behavior of like-minded users."
      ],
      "metadata": {
        "id": "hc0FolYDoI4W"
      }
    },
    {
      "cell_type": "code",
      "source": [
        "# Code the function here\n",
        "import pandas as pd\n",
        "import numpy as np\n",
        "from sklearn.metrics.pairwise import cosine_similarity\n",
        "\n",
        "\n",
        "# Step 1: Create user-movie matrix and fill missing with 0\n",
        "user_movie_matrix = ratings.pivot(index=\"user_id\", columns=\"movie_id\", values=\"rating\").fillna(0)\n",
        "\n",
        "# Step 2: Compute user-user similarity using cosine similarity\n",
        "user_similarity = cosine_similarity(user_movie_matrix)\n",
        "user_sim_df = pd.DataFrame(user_similarity, index=user_movie_matrix.index, columns=user_movie_matrix.index)\n",
        "\n",
        "# Step 3: Recommendation function\n",
        "def recommend_movies_for_user(user_id, num=5):\n",
        "    # Get similarity scores and sort\n",
        "    sim_scores = user_sim_df.loc[user_id].drop(user_id).sort_values(ascending=False)\n",
        "\n",
        "    # Get top similar users (all except the current one)\n",
        "    top_users = sim_scores.index\n",
        "\n",
        "    # Get movies not rated by the current user\n",
        "    user_rated_movies = user_movie_matrix.loc[user_id]\n",
        "    unrated_movies = user_rated_movies[user_rated_movies == 0].index\n",
        "\n",
        "    # Predict ratings: weighted average from similar users\n",
        "    weighted_ratings = {}\n",
        "    for movie_id in unrated_movies:\n",
        "        total_sim = 0\n",
        "        weighted_sum = 0\n",
        "        for sim_user in top_users:\n",
        "            sim_score = sim_scores[sim_user]\n",
        "            rating = user_movie_matrix.loc[sim_user, movie_id]\n",
        "            if rating > 0:\n",
        "                weighted_sum += sim_score * rating\n",
        "                total_sim += sim_score\n",
        "        if total_sim > 0:\n",
        "            weighted_ratings[movie_id] = weighted_sum / total_sim\n",
        "\n",
        "    # Sort predicted ratings and get top N\n",
        "    top_movie_ids = sorted(weighted_ratings, key=weighted_ratings.get, reverse=True)[:num]\n",
        "    movie_names = movies[movies['movie_id'].isin(top_movie_ids)]['title'].tolist()\n",
        "\n",
        "    # Create result DataFrame\n",
        "    result_df = pd.DataFrame({\n",
        "        'Ranking': range(1, len(movie_names)+1),\n",
        "        'Movie Name': movie_names\n",
        "    })\n",
        "    result_df.set_index('Ranking', inplace=True)\n",
        "    return result_df\n",
        "\n",
        "# Example call\n",
        "recommend_movies_for_user(6, num=5)\n"
      ],
      "metadata": {
        "id": "rbENugJ5cUpo",
        "colab": {
          "base_uri": "https://localhost:8080/",
          "height": 237
        },
        "outputId": "69fa8e9f-b6ab-4725-9761-bd8b1711905f"
      },
      "execution_count": 35,
      "outputs": [
        {
          "output_type": "execute_result",
          "data": {
            "text/plain": [
              "                                 Movie Name\n",
              "Ranking                                    \n",
              "1                        Playing God (1997)\n",
              "2                       Exit to Eden (1994)\n",
              "3          Crow: City of Angels, The (1996)\n",
              "4             Baby-Sitters Club, The (1995)\n",
              "5        Mortal Kombat: Annihilation (1997)"
            ],
            "text/html": [
              "\n",
              "  <div id=\"df-b972bb5a-c55e-437a-8a24-44969ac65954\" class=\"colab-df-container\">\n",
              "    <div>\n",
              "<style scoped>\n",
              "    .dataframe tbody tr th:only-of-type {\n",
              "        vertical-align: middle;\n",
              "    }\n",
              "\n",
              "    .dataframe tbody tr th {\n",
              "        vertical-align: top;\n",
              "    }\n",
              "\n",
              "    .dataframe thead th {\n",
              "        text-align: right;\n",
              "    }\n",
              "</style>\n",
              "<table border=\"1\" class=\"dataframe\">\n",
              "  <thead>\n",
              "    <tr style=\"text-align: right;\">\n",
              "      <th></th>\n",
              "      <th>Movie Name</th>\n",
              "    </tr>\n",
              "    <tr>\n",
              "      <th>Ranking</th>\n",
              "      <th></th>\n",
              "    </tr>\n",
              "  </thead>\n",
              "  <tbody>\n",
              "    <tr>\n",
              "      <th>1</th>\n",
              "      <td>Playing God (1997)</td>\n",
              "    </tr>\n",
              "    <tr>\n",
              "      <th>2</th>\n",
              "      <td>Exit to Eden (1994)</td>\n",
              "    </tr>\n",
              "    <tr>\n",
              "      <th>3</th>\n",
              "      <td>Crow: City of Angels, The (1996)</td>\n",
              "    </tr>\n",
              "    <tr>\n",
              "      <th>4</th>\n",
              "      <td>Baby-Sitters Club, The (1995)</td>\n",
              "    </tr>\n",
              "    <tr>\n",
              "      <th>5</th>\n",
              "      <td>Mortal Kombat: Annihilation (1997)</td>\n",
              "    </tr>\n",
              "  </tbody>\n",
              "</table>\n",
              "</div>\n",
              "    <div class=\"colab-df-buttons\">\n",
              "\n",
              "  <div class=\"colab-df-container\">\n",
              "    <button class=\"colab-df-convert\" onclick=\"convertToInteractive('df-b972bb5a-c55e-437a-8a24-44969ac65954')\"\n",
              "            title=\"Convert this dataframe to an interactive table.\"\n",
              "            style=\"display:none;\">\n",
              "\n",
              "  <svg xmlns=\"http://www.w3.org/2000/svg\" height=\"24px\" viewBox=\"0 -960 960 960\">\n",
              "    <path d=\"M120-120v-720h720v720H120Zm60-500h600v-160H180v160Zm220 220h160v-160H400v160Zm0 220h160v-160H400v160ZM180-400h160v-160H180v160Zm440 0h160v-160H620v160ZM180-180h160v-160H180v160Zm440 0h160v-160H620v160Z\"/>\n",
              "  </svg>\n",
              "    </button>\n",
              "\n",
              "  <style>\n",
              "    .colab-df-container {\n",
              "      display:flex;\n",
              "      gap: 12px;\n",
              "    }\n",
              "\n",
              "    .colab-df-convert {\n",
              "      background-color: #E8F0FE;\n",
              "      border: none;\n",
              "      border-radius: 50%;\n",
              "      cursor: pointer;\n",
              "      display: none;\n",
              "      fill: #1967D2;\n",
              "      height: 32px;\n",
              "      padding: 0 0 0 0;\n",
              "      width: 32px;\n",
              "    }\n",
              "\n",
              "    .colab-df-convert:hover {\n",
              "      background-color: #E2EBFA;\n",
              "      box-shadow: 0px 1px 2px rgba(60, 64, 67, 0.3), 0px 1px 3px 1px rgba(60, 64, 67, 0.15);\n",
              "      fill: #174EA6;\n",
              "    }\n",
              "\n",
              "    .colab-df-buttons div {\n",
              "      margin-bottom: 4px;\n",
              "    }\n",
              "\n",
              "    [theme=dark] .colab-df-convert {\n",
              "      background-color: #3B4455;\n",
              "      fill: #D2E3FC;\n",
              "    }\n",
              "\n",
              "    [theme=dark] .colab-df-convert:hover {\n",
              "      background-color: #434B5C;\n",
              "      box-shadow: 0px 1px 3px 1px rgba(0, 0, 0, 0.15);\n",
              "      filter: drop-shadow(0px 1px 2px rgba(0, 0, 0, 0.3));\n",
              "      fill: #FFFFFF;\n",
              "    }\n",
              "  </style>\n",
              "\n",
              "    <script>\n",
              "      const buttonEl =\n",
              "        document.querySelector('#df-b972bb5a-c55e-437a-8a24-44969ac65954 button.colab-df-convert');\n",
              "      buttonEl.style.display =\n",
              "        google.colab.kernel.accessAllowed ? 'block' : 'none';\n",
              "\n",
              "      async function convertToInteractive(key) {\n",
              "        const element = document.querySelector('#df-b972bb5a-c55e-437a-8a24-44969ac65954');\n",
              "        const dataTable =\n",
              "          await google.colab.kernel.invokeFunction('convertToInteractive',\n",
              "                                                    [key], {});\n",
              "        if (!dataTable) return;\n",
              "\n",
              "        const docLinkHtml = 'Like what you see? Visit the ' +\n",
              "          '<a target=\"_blank\" href=https://colab.research.google.com/notebooks/data_table.ipynb>data table notebook</a>'\n",
              "          + ' to learn more about interactive tables.';\n",
              "        element.innerHTML = '';\n",
              "        dataTable['output_type'] = 'display_data';\n",
              "        await google.colab.output.renderOutput(dataTable, element);\n",
              "        const docLink = document.createElement('div');\n",
              "        docLink.innerHTML = docLinkHtml;\n",
              "        element.appendChild(docLink);\n",
              "      }\n",
              "    </script>\n",
              "  </div>\n",
              "\n",
              "\n",
              "<div id=\"df-0791796a-7205-4e8c-bed3-9a282d1b62d2\">\n",
              "  <button class=\"colab-df-quickchart\" onclick=\"quickchart('df-0791796a-7205-4e8c-bed3-9a282d1b62d2')\"\n",
              "            title=\"Suggest charts\"\n",
              "            style=\"display:none;\">\n",
              "\n",
              "<svg xmlns=\"http://www.w3.org/2000/svg\" height=\"24px\"viewBox=\"0 0 24 24\"\n",
              "     width=\"24px\">\n",
              "    <g>\n",
              "        <path d=\"M19 3H5c-1.1 0-2 .9-2 2v14c0 1.1.9 2 2 2h14c1.1 0 2-.9 2-2V5c0-1.1-.9-2-2-2zM9 17H7v-7h2v7zm4 0h-2V7h2v10zm4 0h-2v-4h2v4z\"/>\n",
              "    </g>\n",
              "</svg>\n",
              "  </button>\n",
              "\n",
              "<style>\n",
              "  .colab-df-quickchart {\n",
              "      --bg-color: #E8F0FE;\n",
              "      --fill-color: #1967D2;\n",
              "      --hover-bg-color: #E2EBFA;\n",
              "      --hover-fill-color: #174EA6;\n",
              "      --disabled-fill-color: #AAA;\n",
              "      --disabled-bg-color: #DDD;\n",
              "  }\n",
              "\n",
              "  [theme=dark] .colab-df-quickchart {\n",
              "      --bg-color: #3B4455;\n",
              "      --fill-color: #D2E3FC;\n",
              "      --hover-bg-color: #434B5C;\n",
              "      --hover-fill-color: #FFFFFF;\n",
              "      --disabled-bg-color: #3B4455;\n",
              "      --disabled-fill-color: #666;\n",
              "  }\n",
              "\n",
              "  .colab-df-quickchart {\n",
              "    background-color: var(--bg-color);\n",
              "    border: none;\n",
              "    border-radius: 50%;\n",
              "    cursor: pointer;\n",
              "    display: none;\n",
              "    fill: var(--fill-color);\n",
              "    height: 32px;\n",
              "    padding: 0;\n",
              "    width: 32px;\n",
              "  }\n",
              "\n",
              "  .colab-df-quickchart:hover {\n",
              "    background-color: var(--hover-bg-color);\n",
              "    box-shadow: 0 1px 2px rgba(60, 64, 67, 0.3), 0 1px 3px 1px rgba(60, 64, 67, 0.15);\n",
              "    fill: var(--button-hover-fill-color);\n",
              "  }\n",
              "\n",
              "  .colab-df-quickchart-complete:disabled,\n",
              "  .colab-df-quickchart-complete:disabled:hover {\n",
              "    background-color: var(--disabled-bg-color);\n",
              "    fill: var(--disabled-fill-color);\n",
              "    box-shadow: none;\n",
              "  }\n",
              "\n",
              "  .colab-df-spinner {\n",
              "    border: 2px solid var(--fill-color);\n",
              "    border-color: transparent;\n",
              "    border-bottom-color: var(--fill-color);\n",
              "    animation:\n",
              "      spin 1s steps(1) infinite;\n",
              "  }\n",
              "\n",
              "  @keyframes spin {\n",
              "    0% {\n",
              "      border-color: transparent;\n",
              "      border-bottom-color: var(--fill-color);\n",
              "      border-left-color: var(--fill-color);\n",
              "    }\n",
              "    20% {\n",
              "      border-color: transparent;\n",
              "      border-left-color: var(--fill-color);\n",
              "      border-top-color: var(--fill-color);\n",
              "    }\n",
              "    30% {\n",
              "      border-color: transparent;\n",
              "      border-left-color: var(--fill-color);\n",
              "      border-top-color: var(--fill-color);\n",
              "      border-right-color: var(--fill-color);\n",
              "    }\n",
              "    40% {\n",
              "      border-color: transparent;\n",
              "      border-right-color: var(--fill-color);\n",
              "      border-top-color: var(--fill-color);\n",
              "    }\n",
              "    60% {\n",
              "      border-color: transparent;\n",
              "      border-right-color: var(--fill-color);\n",
              "    }\n",
              "    80% {\n",
              "      border-color: transparent;\n",
              "      border-right-color: var(--fill-color);\n",
              "      border-bottom-color: var(--fill-color);\n",
              "    }\n",
              "    90% {\n",
              "      border-color: transparent;\n",
              "      border-bottom-color: var(--fill-color);\n",
              "    }\n",
              "  }\n",
              "</style>\n",
              "\n",
              "  <script>\n",
              "    async function quickchart(key) {\n",
              "      const quickchartButtonEl =\n",
              "        document.querySelector('#' + key + ' button');\n",
              "      quickchartButtonEl.disabled = true;  // To prevent multiple clicks.\n",
              "      quickchartButtonEl.classList.add('colab-df-spinner');\n",
              "      try {\n",
              "        const charts = await google.colab.kernel.invokeFunction(\n",
              "            'suggestCharts', [key], {});\n",
              "      } catch (error) {\n",
              "        console.error('Error during call to suggestCharts:', error);\n",
              "      }\n",
              "      quickchartButtonEl.classList.remove('colab-df-spinner');\n",
              "      quickchartButtonEl.classList.add('colab-df-quickchart-complete');\n",
              "    }\n",
              "    (() => {\n",
              "      let quickchartButtonEl =\n",
              "        document.querySelector('#df-0791796a-7205-4e8c-bed3-9a282d1b62d2 button');\n",
              "      quickchartButtonEl.style.display =\n",
              "        google.colab.kernel.accessAllowed ? 'block' : 'none';\n",
              "    })();\n",
              "  </script>\n",
              "</div>\n",
              "\n",
              "    </div>\n",
              "  </div>\n"
            ],
            "application/vnd.google.colaboratory.intrinsic+json": {
              "type": "dataframe",
              "summary": "{\n  \"name\": \"recommend_movies_for_user(6, num=5)\",\n  \"rows\": 5,\n  \"fields\": [\n    {\n      \"column\": \"Ranking\",\n      \"properties\": {\n        \"dtype\": \"number\",\n        \"std\": 1,\n        \"min\": 1,\n        \"max\": 5,\n        \"num_unique_values\": 5,\n        \"samples\": [\n          2,\n          5,\n          3\n        ],\n        \"semantic_type\": \"\",\n        \"description\": \"\"\n      }\n    },\n    {\n      \"column\": \"Movie Name\",\n      \"properties\": {\n        \"dtype\": \"string\",\n        \"num_unique_values\": 5,\n        \"samples\": [\n          \"Exit to Eden (1994)\",\n          \"Mortal Kombat: Annihilation (1997)\",\n          \"Crow: City of Angels, The (1996)\"\n        ],\n        \"semantic_type\": \"\",\n        \"description\": \"\"\n      }\n    }\n  ]\n}"
            }
          },
          "metadata": {},
          "execution_count": 35
        }
      ]
    },
    {
      "cell_type": "markdown",
      "source": [
        "# Insights of the above result\n",
        "\n",
        "The output generated by the user-based collaborative filtering code provides personalized movie recommendations for a specific user based on the preferences of other users with similar viewing patterns. For instance, when recommendations are generated for user 6, the list includes movies that user 6 has not rated but which have been highly rated by users who share similar tastes. This indicates that the model successfully identifies patterns in user behavior and leverages those similarities to fill in gaps in a user's experience, suggesting movies they are likely to enjoy. The recommendations are ranked, showing which movies have the strongest predicted appeal to the user. This approach not only enhances user engagement by presenting relevant content but also highlights the power of collaborative filtering in making intelligent, data-driven predictions based on community preferences."
      ],
      "metadata": {
        "id": "knPl8WEEoutO"
      }
    },
    {
      "cell_type": "markdown",
      "source": [
        "### **Item-Based Collaborative Filtering Recommender System**"
      ],
      "metadata": {
        "id": "MIN3XqC0eUAu"
      }
    },
    {
      "cell_type": "markdown",
      "source": [
        "#### **Objective**\n",
        "In this task, you will implement an **item-based collaborative filtering** recommendation system using the **Movie dataset**. The goal is to recommend movies similar to a given movie based on user rating patterns."
      ],
      "metadata": {
        "id": "ytqWK-4ze2aA"
      }
    },
    {
      "cell_type": "markdown",
      "source": [
        "#### **Step 1: Import Required Libraries**\n",
        "Although we have done this part already in the previous task but just to emphasize the importance reiterrating this part.\n",
        "\n",
        "Before starting, ensure you have the necessary libraries installed. Use the following imports:\n",
        "\n",
        "```python\n",
        "import pandas as pd  # For handling data\n",
        "import numpy as np   # For numerical computations\n",
        "from sklearn.metrics.pairwise import cosine_similarity  # For computing item similarity\n",
        "```"
      ],
      "metadata": {
        "id": "Q0-HuDvffY57"
      }
    },
    {
      "cell_type": "markdown",
      "source": [
        "#### **Step 2: Compute Item-Item Similarity**\n",
        "- We will use **cosine similarity** to measure how similar each pair of movies is based on their user ratings.\n",
        "- Since `cosine_similarity` does not handle missing values (NaN), replace them with `0` before computation.\n",
        "- Unlike user-based filtering, we need to **transpose** (`.T`) the `user_movie_matrix` because we want similarity between movies (columns) instead of users (rows).\n",
        "\n",
        "##### **Instructions:**\n",
        "1. Transpose the user-movie matrix using `.T` to make movies the rows.\n",
        "2. Fill missing values with `0` using `.fillna(0)`.\n",
        "3. Compute similarity using `cosine_similarity()`.\n",
        "4. Convert the result into a **Pandas DataFrame**, with movies as both row and column labels.\n",
        "\n",
        "##### **Hint:**  \n",
        "You can achieve this using the following approach:\n",
        "\n",
        "```python\n",
        "item_similarity = cosine_similarity(user_movie_matrix.T.fillna(0))\n",
        "item_sim_df = pd.DataFrame(item_similarity, index=user_movie_matrix.columns, columns=user_movie_matrix.columns)\n",
        "```"
      ],
      "metadata": {
        "id": "b9oy7pojf19r"
      }
    },
    {
      "cell_type": "markdown",
      "source": [
        "#### **Step 3: Implement the Recommendation Function**\n",
        "Now, implement the function `recommend_movies(movie_name, num=5)` to recommend movies similar to a given movie.\n",
        "\n",
        "##### **Function Inputs:**\n",
        "- `movie_name`: The target movie for which we need recommendations.\n",
        "- `num`: The number of similar movies to recommend (default is 5).\n",
        "\n",
        "##### **Function Steps:**\n",
        "1. Find the **movie_id** corresponding to the given `movie_name` in the `movies` DataFrame.\n",
        "2. If the movie is not found, return an appropriate message.\n",
        "3. Extract the **similarity scores** for this movie from `item_sim_df`.\n",
        "4. Sort the movies in **descending order** based on similarity (excluding the movie itself).\n",
        "5. Retrieve the **top `num` similar movies**.\n",
        "6. Map **movie IDs** to their **titles** using the `movies` DataFrame.\n",
        "7. Return the results as a **Pandas DataFrame** with rankings."
      ],
      "metadata": {
        "id": "L8k80idUgDWW"
      }
    },
    {
      "cell_type": "markdown",
      "source": [
        "#### **Step 4: Return the Final Recommendation List**\n",
        "Your function should return a **DataFrame** structured as follows:\n",
        "\n",
        "| Ranking | Movie Name |\n",
        "|---------|-----------|\n",
        "| 1       | Movie A   |\n",
        "| 2       | Movie B   |\n",
        "| 3       | Movie C   |\n",
        "| 4       | Movie D   |\n",
        "| 5       | Movie E   |\n",
        "\n",
        "##### **Hint:** Your final DataFrame should be created like this:\n",
        "```python\n",
        "result_df = pd.DataFrame({\n",
        "    'ranking': range(1, num+1),\n",
        "    'movie_name': movie_names\n",
        "})\n",
        "result_df.set_index('ranking', inplace=True)\n",
        "```"
      ],
      "metadata": {
        "id": "kNRZQWQkgLPf"
      }
    },
    {
      "cell_type": "markdown",
      "source": [
        "#### **Example: Item-Based Collaborative Filtering**\n",
        "```python\n",
        "recommend_movies(\"Jurassic Park (1993)\", num=5)\n",
        "```\n",
        "**Output:**\n",
        "```\n",
        "| Ranking | Movie Name                               |\n",
        "|---------|------------------------------------------|\n",
        "| 1       | Top Gun (1986)                           |\n",
        "| 2       | Empire Strikes Back, The (1980)          |\n",
        "| 3       | Raiders of the Lost Ark (1981)           |\n",
        "| 4       | Indiana Jones and the Last Crusade (1989)|\n",
        "| 5       | Speed (1994)                             |\n"
      ],
      "metadata": {
        "id": "h-EEF0Q1gd9N"
      }
    },
    {
      "cell_type": "markdown",
      "source": [
        "#Code explanation\n",
        "\n",
        "Step 1: Compute Item-Item Similarity Matrix:\n",
        "\n",
        "* The cosine_similarity() function calculates similarity between movies based on their user ratings.\n",
        "\n",
        "* The .T transposes the user-movie matrix to treat movies as rows (rather than users).\n",
        "\n",
        "* .fillna(0) replaces missing values with 0 to avoid computation issues.\n",
        "\n",
        "* The result is stored in a DataFrame (item_sim_df) where each cell represents the similarity between two movies.\n",
        "\n",
        "Step 2: Item-based Recommendation Function:\n",
        "\n",
        "* Input: A movie title (movie_name) and a number (num) indicating how many similar movies to recommend.\n",
        "\n",
        "* Movie ID Extraction: The function retrieves the movie_id corresponding to the provided movie title from the movies DataFrame.\n",
        "\n",
        "* Similarity Calculation: Using the item similarity matrix, the function finds similarity scores between the input movie and all other movies, excluding itself.\n",
        "\n",
        "* Top Movies Selection: The top num movies with the highest similarity scores are selected.\n",
        "\n",
        "* Result Compilation: The movie titles of the top num similar movies are retrieved and formatted into a DataFrame, which is returned as the final recommendation list."
      ],
      "metadata": {
        "id": "DXkgLsiapQeq"
      }
    },
    {
      "cell_type": "code",
      "source": [
        "# Code the function here\n",
        "# Step 1: Compute item-item similarity matrix\n",
        "item_similarity = cosine_similarity(user_movie_matrix.T.fillna(0))\n",
        "item_sim_df = pd.DataFrame(item_similarity, index=user_movie_matrix.columns, columns=user_movie_matrix.columns)\n",
        "\n",
        "# Step 2: Item-based recommendation function\n",
        "def recommend_movies(movie_name, num=5):\n",
        "    # Find movie_id from title\n",
        "    if movie_name not in movies['title'].values:\n",
        "        return f\"Movie '{movie_name}' not found in the dataset.\"\n",
        "\n",
        "    movie_id = movies[movies['title'] == movie_name]['movie_id'].values[0]\n",
        "\n",
        "    # Get similarity scores for the movie\n",
        "    sim_scores = item_sim_df[movie_id].drop(movie_id).sort_values(ascending=False)\n",
        "    top_movie_ids = sim_scores.head(num).index\n",
        "\n",
        "    # Get movie titles\n",
        "    movie_names = movies[movies['movie_id'].isin(top_movie_ids)]['title'].tolist()\n",
        "\n",
        "    # Create result DataFrame\n",
        "    result_df = pd.DataFrame({\n",
        "        'ranking': range(1, len(movie_names)+1),\n",
        "        'movie_name': movie_names\n",
        "    })\n",
        "    result_df.set_index('ranking', inplace=True)\n",
        "    return result_df\n",
        "\n",
        "# Example call\n",
        "recommend_movies(\"Top Gun (1986)\", num=5)"
      ],
      "metadata": {
        "id": "l1K79akTebWa",
        "colab": {
          "base_uri": "https://localhost:8080/",
          "height": 237
        },
        "outputId": "fc7df760-2ecf-41b6-d8b4-edaa623a3a68"
      },
      "execution_count": 31,
      "outputs": [
        {
          "output_type": "execute_result",
          "data": {
            "text/plain": [
              "                                movie_name\n",
              "ranking                                   \n",
              "1                     Jurassic Park (1993)\n",
              "2                         True Lies (1994)\n",
              "3                            Batman (1989)\n",
              "4        Die Hard: With a Vengeance (1995)\n",
              "5                             Speed (1994)"
            ],
            "text/html": [
              "\n",
              "  <div id=\"df-1fc936c6-a55a-4f06-a7ae-98af532f7171\" class=\"colab-df-container\">\n",
              "    <div>\n",
              "<style scoped>\n",
              "    .dataframe tbody tr th:only-of-type {\n",
              "        vertical-align: middle;\n",
              "    }\n",
              "\n",
              "    .dataframe tbody tr th {\n",
              "        vertical-align: top;\n",
              "    }\n",
              "\n",
              "    .dataframe thead th {\n",
              "        text-align: right;\n",
              "    }\n",
              "</style>\n",
              "<table border=\"1\" class=\"dataframe\">\n",
              "  <thead>\n",
              "    <tr style=\"text-align: right;\">\n",
              "      <th></th>\n",
              "      <th>movie_name</th>\n",
              "    </tr>\n",
              "    <tr>\n",
              "      <th>ranking</th>\n",
              "      <th></th>\n",
              "    </tr>\n",
              "  </thead>\n",
              "  <tbody>\n",
              "    <tr>\n",
              "      <th>1</th>\n",
              "      <td>Jurassic Park (1993)</td>\n",
              "    </tr>\n",
              "    <tr>\n",
              "      <th>2</th>\n",
              "      <td>True Lies (1994)</td>\n",
              "    </tr>\n",
              "    <tr>\n",
              "      <th>3</th>\n",
              "      <td>Batman (1989)</td>\n",
              "    </tr>\n",
              "    <tr>\n",
              "      <th>4</th>\n",
              "      <td>Die Hard: With a Vengeance (1995)</td>\n",
              "    </tr>\n",
              "    <tr>\n",
              "      <th>5</th>\n",
              "      <td>Speed (1994)</td>\n",
              "    </tr>\n",
              "  </tbody>\n",
              "</table>\n",
              "</div>\n",
              "    <div class=\"colab-df-buttons\">\n",
              "\n",
              "  <div class=\"colab-df-container\">\n",
              "    <button class=\"colab-df-convert\" onclick=\"convertToInteractive('df-1fc936c6-a55a-4f06-a7ae-98af532f7171')\"\n",
              "            title=\"Convert this dataframe to an interactive table.\"\n",
              "            style=\"display:none;\">\n",
              "\n",
              "  <svg xmlns=\"http://www.w3.org/2000/svg\" height=\"24px\" viewBox=\"0 -960 960 960\">\n",
              "    <path d=\"M120-120v-720h720v720H120Zm60-500h600v-160H180v160Zm220 220h160v-160H400v160Zm0 220h160v-160H400v160ZM180-400h160v-160H180v160Zm440 0h160v-160H620v160ZM180-180h160v-160H180v160Zm440 0h160v-160H620v160Z\"/>\n",
              "  </svg>\n",
              "    </button>\n",
              "\n",
              "  <style>\n",
              "    .colab-df-container {\n",
              "      display:flex;\n",
              "      gap: 12px;\n",
              "    }\n",
              "\n",
              "    .colab-df-convert {\n",
              "      background-color: #E8F0FE;\n",
              "      border: none;\n",
              "      border-radius: 50%;\n",
              "      cursor: pointer;\n",
              "      display: none;\n",
              "      fill: #1967D2;\n",
              "      height: 32px;\n",
              "      padding: 0 0 0 0;\n",
              "      width: 32px;\n",
              "    }\n",
              "\n",
              "    .colab-df-convert:hover {\n",
              "      background-color: #E2EBFA;\n",
              "      box-shadow: 0px 1px 2px rgba(60, 64, 67, 0.3), 0px 1px 3px 1px rgba(60, 64, 67, 0.15);\n",
              "      fill: #174EA6;\n",
              "    }\n",
              "\n",
              "    .colab-df-buttons div {\n",
              "      margin-bottom: 4px;\n",
              "    }\n",
              "\n",
              "    [theme=dark] .colab-df-convert {\n",
              "      background-color: #3B4455;\n",
              "      fill: #D2E3FC;\n",
              "    }\n",
              "\n",
              "    [theme=dark] .colab-df-convert:hover {\n",
              "      background-color: #434B5C;\n",
              "      box-shadow: 0px 1px 3px 1px rgba(0, 0, 0, 0.15);\n",
              "      filter: drop-shadow(0px 1px 2px rgba(0, 0, 0, 0.3));\n",
              "      fill: #FFFFFF;\n",
              "    }\n",
              "  </style>\n",
              "\n",
              "    <script>\n",
              "      const buttonEl =\n",
              "        document.querySelector('#df-1fc936c6-a55a-4f06-a7ae-98af532f7171 button.colab-df-convert');\n",
              "      buttonEl.style.display =\n",
              "        google.colab.kernel.accessAllowed ? 'block' : 'none';\n",
              "\n",
              "      async function convertToInteractive(key) {\n",
              "        const element = document.querySelector('#df-1fc936c6-a55a-4f06-a7ae-98af532f7171');\n",
              "        const dataTable =\n",
              "          await google.colab.kernel.invokeFunction('convertToInteractive',\n",
              "                                                    [key], {});\n",
              "        if (!dataTable) return;\n",
              "\n",
              "        const docLinkHtml = 'Like what you see? Visit the ' +\n",
              "          '<a target=\"_blank\" href=https://colab.research.google.com/notebooks/data_table.ipynb>data table notebook</a>'\n",
              "          + ' to learn more about interactive tables.';\n",
              "        element.innerHTML = '';\n",
              "        dataTable['output_type'] = 'display_data';\n",
              "        await google.colab.output.renderOutput(dataTable, element);\n",
              "        const docLink = document.createElement('div');\n",
              "        docLink.innerHTML = docLinkHtml;\n",
              "        element.appendChild(docLink);\n",
              "      }\n",
              "    </script>\n",
              "  </div>\n",
              "\n",
              "\n",
              "<div id=\"df-300e2b5c-0cde-4f2b-94bf-e2ce81a77230\">\n",
              "  <button class=\"colab-df-quickchart\" onclick=\"quickchart('df-300e2b5c-0cde-4f2b-94bf-e2ce81a77230')\"\n",
              "            title=\"Suggest charts\"\n",
              "            style=\"display:none;\">\n",
              "\n",
              "<svg xmlns=\"http://www.w3.org/2000/svg\" height=\"24px\"viewBox=\"0 0 24 24\"\n",
              "     width=\"24px\">\n",
              "    <g>\n",
              "        <path d=\"M19 3H5c-1.1 0-2 .9-2 2v14c0 1.1.9 2 2 2h14c1.1 0 2-.9 2-2V5c0-1.1-.9-2-2-2zM9 17H7v-7h2v7zm4 0h-2V7h2v10zm4 0h-2v-4h2v4z\"/>\n",
              "    </g>\n",
              "</svg>\n",
              "  </button>\n",
              "\n",
              "<style>\n",
              "  .colab-df-quickchart {\n",
              "      --bg-color: #E8F0FE;\n",
              "      --fill-color: #1967D2;\n",
              "      --hover-bg-color: #E2EBFA;\n",
              "      --hover-fill-color: #174EA6;\n",
              "      --disabled-fill-color: #AAA;\n",
              "      --disabled-bg-color: #DDD;\n",
              "  }\n",
              "\n",
              "  [theme=dark] .colab-df-quickchart {\n",
              "      --bg-color: #3B4455;\n",
              "      --fill-color: #D2E3FC;\n",
              "      --hover-bg-color: #434B5C;\n",
              "      --hover-fill-color: #FFFFFF;\n",
              "      --disabled-bg-color: #3B4455;\n",
              "      --disabled-fill-color: #666;\n",
              "  }\n",
              "\n",
              "  .colab-df-quickchart {\n",
              "    background-color: var(--bg-color);\n",
              "    border: none;\n",
              "    border-radius: 50%;\n",
              "    cursor: pointer;\n",
              "    display: none;\n",
              "    fill: var(--fill-color);\n",
              "    height: 32px;\n",
              "    padding: 0;\n",
              "    width: 32px;\n",
              "  }\n",
              "\n",
              "  .colab-df-quickchart:hover {\n",
              "    background-color: var(--hover-bg-color);\n",
              "    box-shadow: 0 1px 2px rgba(60, 64, 67, 0.3), 0 1px 3px 1px rgba(60, 64, 67, 0.15);\n",
              "    fill: var(--button-hover-fill-color);\n",
              "  }\n",
              "\n",
              "  .colab-df-quickchart-complete:disabled,\n",
              "  .colab-df-quickchart-complete:disabled:hover {\n",
              "    background-color: var(--disabled-bg-color);\n",
              "    fill: var(--disabled-fill-color);\n",
              "    box-shadow: none;\n",
              "  }\n",
              "\n",
              "  .colab-df-spinner {\n",
              "    border: 2px solid var(--fill-color);\n",
              "    border-color: transparent;\n",
              "    border-bottom-color: var(--fill-color);\n",
              "    animation:\n",
              "      spin 1s steps(1) infinite;\n",
              "  }\n",
              "\n",
              "  @keyframes spin {\n",
              "    0% {\n",
              "      border-color: transparent;\n",
              "      border-bottom-color: var(--fill-color);\n",
              "      border-left-color: var(--fill-color);\n",
              "    }\n",
              "    20% {\n",
              "      border-color: transparent;\n",
              "      border-left-color: var(--fill-color);\n",
              "      border-top-color: var(--fill-color);\n",
              "    }\n",
              "    30% {\n",
              "      border-color: transparent;\n",
              "      border-left-color: var(--fill-color);\n",
              "      border-top-color: var(--fill-color);\n",
              "      border-right-color: var(--fill-color);\n",
              "    }\n",
              "    40% {\n",
              "      border-color: transparent;\n",
              "      border-right-color: var(--fill-color);\n",
              "      border-top-color: var(--fill-color);\n",
              "    }\n",
              "    60% {\n",
              "      border-color: transparent;\n",
              "      border-right-color: var(--fill-color);\n",
              "    }\n",
              "    80% {\n",
              "      border-color: transparent;\n",
              "      border-right-color: var(--fill-color);\n",
              "      border-bottom-color: var(--fill-color);\n",
              "    }\n",
              "    90% {\n",
              "      border-color: transparent;\n",
              "      border-bottom-color: var(--fill-color);\n",
              "    }\n",
              "  }\n",
              "</style>\n",
              "\n",
              "  <script>\n",
              "    async function quickchart(key) {\n",
              "      const quickchartButtonEl =\n",
              "        document.querySelector('#' + key + ' button');\n",
              "      quickchartButtonEl.disabled = true;  // To prevent multiple clicks.\n",
              "      quickchartButtonEl.classList.add('colab-df-spinner');\n",
              "      try {\n",
              "        const charts = await google.colab.kernel.invokeFunction(\n",
              "            'suggestCharts', [key], {});\n",
              "      } catch (error) {\n",
              "        console.error('Error during call to suggestCharts:', error);\n",
              "      }\n",
              "      quickchartButtonEl.classList.remove('colab-df-spinner');\n",
              "      quickchartButtonEl.classList.add('colab-df-quickchart-complete');\n",
              "    }\n",
              "    (() => {\n",
              "      let quickchartButtonEl =\n",
              "        document.querySelector('#df-300e2b5c-0cde-4f2b-94bf-e2ce81a77230 button');\n",
              "      quickchartButtonEl.style.display =\n",
              "        google.colab.kernel.accessAllowed ? 'block' : 'none';\n",
              "    })();\n",
              "  </script>\n",
              "</div>\n",
              "\n",
              "    </div>\n",
              "  </div>\n"
            ],
            "application/vnd.google.colaboratory.intrinsic+json": {
              "type": "dataframe",
              "summary": "{\n  \"name\": \"recommend_movies(\\\"Top Gun (1986)\\\", num=5)\",\n  \"rows\": 5,\n  \"fields\": [\n    {\n      \"column\": \"ranking\",\n      \"properties\": {\n        \"dtype\": \"number\",\n        \"std\": 1,\n        \"min\": 1,\n        \"max\": 5,\n        \"num_unique_values\": 5,\n        \"samples\": [\n          2,\n          5,\n          3\n        ],\n        \"semantic_type\": \"\",\n        \"description\": \"\"\n      }\n    },\n    {\n      \"column\": \"movie_name\",\n      \"properties\": {\n        \"dtype\": \"string\",\n        \"num_unique_values\": 5,\n        \"samples\": [\n          \"True Lies (1994)\",\n          \"Speed (1994)\",\n          \"Batman (1989)\"\n        ],\n        \"semantic_type\": \"\",\n        \"description\": \"\"\n      }\n    }\n  ]\n}"
            }
          },
          "metadata": {},
          "execution_count": 31
        }
      ]
    },
    {
      "cell_type": "markdown",
      "source": [
        "#Insights of above output\n",
        "\n",
        "The output of this item-based collaborative filtering recommendation system provides a list of movies similar to \"Top Gun (1986)\" based on their similarity in ratings by users. The recommendations are ranked according to their similarity to the input movie. This allows users to discover movies that are likely to share thematic or genre-related characteristics with the movie they enjoy. For example, if a user enjoys \"Top Gun (1986)\", the system will suggest other action movies or films with similar audience appeal. This approach ensures that the recommendations are grounded in item-item similarity, focusing on finding movies that have been similarly rated by users rather than relying on user preferences alone. It demonstrates the effectiveness of item-based filtering in recommending related content based on shared attributes among items (in this case, movies)."
      ],
      "metadata": {
        "id": "sg6aS_tBpiwP"
      }
    },
    {
      "cell_type": "markdown",
      "source": [
        "## **Part 3: Graph-Based Recommender (Pixie-Inspired Algorithm)**"
      ],
      "metadata": {
        "id": "YhZXLz7Rh_VC"
      }
    },
    {
      "cell_type": "markdown",
      "source": [
        "### **Adjacency List**"
      ],
      "metadata": {
        "id": "u_YceL18lWlN"
      }
    },
    {
      "cell_type": "markdown",
      "source": [
        "#### **Objective**\n",
        "In this task, you will preprocess the Movie dataset and construct a **graph representation** where:\n",
        "- **Users** are connected to the movies they have rated.\n",
        "- **Movies** are connected to users who have rated them.\n",
        "  \n",
        "This graph structure will help in exploring **user-movie relationships** for recommendations."
      ],
      "metadata": {
        "id": "CFF1tUDsipIX"
      }
    },
    {
      "cell_type": "markdown",
      "source": [
        "#### **Step 1: Merge Ratings with Movie Titles**\n",
        "Since we have **movie IDs** in the ratings dataset but need human-readable movie titles, we will:\n",
        "1. Merge the `ratings` DataFrame with the `movies` DataFrame using the `'movie_id'` column.\n",
        "2. This allows each rating to be associated with a **movie title**.\n",
        "\n",
        "#### **Hint:**\n",
        "Use the following Pandas operation to merge:\n",
        "```python\n",
        "ratings = ratings.merge(movies, on='movie_id')\n",
        "```"
      ],
      "metadata": {
        "id": "-3OPInjhkUzy"
      }
    },
    {
      "cell_type": "markdown",
      "source": [
        "\n",
        "#### **Step 2: Aggregate Ratings**\n",
        "Since multiple users may rate the same movie multiple times, we:\n",
        "1. Group the dataset by `['user_id', 'movie_id', 'title']`.\n",
        "2. Compute the **mean rating** for each movie by each user.\n",
        "3. Reset the index to ensure we maintain a clean DataFrame structure.\n",
        "\n",
        "#### **Hint:**  \n",
        "Use `groupby()` and `mean()` as follows:\n",
        "```python\n",
        "ratings = ratings.groupby(['user_id', 'movie_id', 'title'])['rating'].mean().reset_index()\n",
        "```"
      ],
      "metadata": {
        "id": "3OPUXyNVkfHr"
      }
    },
    {
      "cell_type": "markdown",
      "source": [
        "#### **Step 3: Normalize Ratings**\n",
        "Since different users have different rating biases, we normalize ratings by:\n",
        "1. **Computing each user's mean rating**.\n",
        "2. **Subtracting the mean rating** from each individual rating.\n",
        "\n",
        "#### **Instructions:**\n",
        "- Use `groupby('user_id')` to group ratings by users.\n",
        "- Apply `transform(lambda x: x - x.mean())` to adjust ratings.\n",
        "\n",
        "#### **Hint:**  \n",
        "Normalize ratings using:\n",
        "```python\n",
        "ratings['rating'] = ratings.groupby('user_id')['rating'].transform(lambda x: x - x.mean())\n",
        "```\n",
        "This ensures each user’s ratings are centered around zero, making similarity calculations fairer."
      ],
      "metadata": {
        "id": "NU1fB66WkqEO"
      }
    },
    {
      "cell_type": "markdown",
      "source": [
        "#### **Step 4: Construct the Graph Representation**\n",
        "We represent the user-movie interactions as an **undirected graph** using an **adjacency list**:\n",
        "- Each **user** is a node connected to movies they rated.\n",
        "- Each **movie** is a node connected to users who rated it.\n",
        "\n",
        "#### **Graph Construction Steps:**\n",
        "1. Initialize an empty dictionary `graph = {}`.\n",
        "2. Iterate through the **ratings dataset**.\n",
        "3. For each `user_id` and `movie_id` pair:\n",
        "   - Add the movie to the user’s set of connections.\n",
        "   - Add the user to the movie’s set of connections.\n",
        "\n",
        "#### **Hint:**  \n",
        "The following code builds the graph:\n",
        "\n",
        "```python\n",
        "graph = {}\n",
        "for _, row in ratings.iterrows():\n",
        "    user, movie = row['user_id'], row['movie_id']\n",
        "    if user not in graph:\n",
        "        graph[user] = set()\n",
        "    if movie not in graph:\n",
        "        graph[movie] = set()\n",
        "    graph[user].add(movie)\n",
        "    graph[movie].add(user)\n",
        "```\n",
        "\n",
        "This results in a **bipartite graph**, where:\n",
        "- **Users** are connected to multiple movies.\n",
        "- **Movies** are connected to multiple users."
      ],
      "metadata": {
        "id": "79NB8zIWkvWP"
      }
    },
    {
      "cell_type": "markdown",
      "source": [
        "#### **Step 5: Understanding the Graph**\n",
        "- **Nodes** in the graph represent **users and movies**.\n",
        "- **Edges** exist between a user and a movie **if the user has rated the movie**.\n",
        "- This structure allows us to find **users with similar movie tastes** and **movies frequently watched together**.\n",
        "\n",
        "#### **Exploring the Graph**\n",
        "- **Find a user’s rated movies:**  \n",
        "  ```python\n",
        "  user_id = 1\n",
        "  print(graph[user_id])  # Movies rated by user 1\n",
        "  ```\n",
        "\n",
        "- **Find users who rated a movie:**  \n",
        "  ```python\n",
        "  movie_id = 50\n",
        "  print(graph[movie_id])  # Users who rated movie 50\n",
        "  ```"
      ],
      "metadata": {
        "id": "wEuVgjAAk4KV"
      }
    },
    {
      "cell_type": "markdown",
      "source": [
        "#Code explanation\n",
        "\n",
        "Step 1: Merge Ratings with Movie Titles\n",
        "\n",
        "* The ratings DataFrame is merged with the movies DataFrame on movie_id to include movie titles along with rating data, making it human-readable.\n",
        "\n",
        "Step 2: Aggregate Ratings\n",
        "\n",
        "* The code groups the dataset by user_id, movie_id, and title, then computes the average rating per user for each movie. This ensures each user-movie pair has only one rating.\n",
        "\n",
        "Step 3: Normalize Ratings\n",
        "\n",
        "* Normalization is done per user by subtracting their mean rating, which adjusts for personal bias (e.g., harsh or generous raters) and centers the data around zero.\n",
        "\n",
        "Step 4: Construct a Bipartite Graph\n",
        "\n",
        "* A dictionary-based graph is built where:\n",
        "\n",
        "* Users are nodes connected to movies they've rated.\n",
        "\n",
        "* Movies are nodes connected to users who rated them.\n",
        "\n",
        "* This forms a user-movie bipartite graph, enabling traversal and neighbor-based analysis.\n",
        "\n",
        "Step 5: Graph Exploration\n",
        "\n",
        "* By accessing the graph with a user ID, you can see all movies that user has rated.\n",
        "\n",
        "* By accessing the graph with a movie ID, you can find all users who rated that movie."
      ],
      "metadata": {
        "id": "6i0SlPa4qFn5"
      }
    },
    {
      "cell_type": "code",
      "source": [
        "# Code the function here\n",
        "# Step 1: Merge ratings with movie titles\n",
        "\n",
        "ratings = ratings.merge(movies, on='movie_id')\n",
        "\n",
        "# Step 2: Aggregate ratings (average per user-movie pair)\n",
        "ratings = ratings.groupby(['user_id', 'movie_id', 'title'])['rating'].mean().reset_index()\n",
        "\n",
        "# Step 3: Normalize ratings per user\n",
        "ratings['rating'] = ratings.groupby('user_id')['rating'].transform(lambda x: x - x.mean())\n",
        "\n",
        "# Step 4: Construct the graph\n",
        "graph = {}\n",
        "for _, row in ratings.iterrows():\n",
        "    user, movie = row['user_id'], row['movie_id']\n",
        "    if user not in graph:\n",
        "        graph[user] = set()\n",
        "    if movie not in graph:\n",
        "        graph[movie] = set()\n",
        "    graph[user].add(movie)\n",
        "    graph[movie].add(user)\n",
        "\n",
        "# Step 5: Exploring the graph - example lookups\n",
        "user_example = 2\n",
        "movie_example = 10\n",
        "user_movies = graph[user_example]  # Movies rated by user 1\n",
        "movie_users = graph[movie_example]  # Users who rated movie 50\n",
        "\n",
        "print(f\"Movies rated by user {user_example}: {user_movies}\")\n",
        "print(f\"Users who rated movie {movie_example}: {movie_users}\")\n"
      ],
      "metadata": {
        "id": "b4V2aL4DiMM4",
        "colab": {
          "base_uri": "https://localhost:8080/"
        },
        "outputId": "1f34a714-ce8b-47d3-e4d7-662b5b84b532"
      },
      "execution_count": 32,
      "outputs": [
        {
          "output_type": "stream",
          "name": "stdout",
          "text": [
            "Movies rated by user 2: {1, 5, 815, 521, 10, 13, 14, 19, 532, 22, 536, 25, 30, 543, 551, 42, 49, 50, 561, 566, 64, 72, 83, 87, 600, 92, 95, 100, 102, 618, 621, 110, 111, 622, 627, 632, 127, 640, 130, 642, 643, 648, 650, 653, 655, 660, 671, 682, 686, 178, 193, 705, 197, 709, 200, 201, 715, 207, 213, 727, 217, 222, 738, 234, 746, 237, 749, 751, 242, 757, 249, 250, 251, 764, 255, 256, 257, 258, 773, 774, 267, 268, 269, 271, 272, 273, 274, 275, 276, 277, 278, 279, 280, 281, 282, 283, 284, 285, 286, 287, 288, 289, 290, 291, 292, 293, 294, 295, 296, 297, 298, 299, 300, 301, 302, 303, 304, 305, 306, 307, 308, 309, 310, 311, 312, 313, 314, 315, 316, 826, 830, 320, 325, 327, 844, 846, 346, 864, 868, 870, 363, 880, 373, 374, 886, 889, 378, 379, 892, 896, 385, 387, 899, 790, 393, 398, 399, 916, 405, 407, 924, 416, 795, 796, 934, 425, 429, 798, 943, 435, 442, 450, 455, 804, 466, 472, 806, 807, 484, 487, 495, 497, 506}\n",
            "Users who rated movie 10: {1, 2, 513, 4, 514, 518, 7, 519, 9, 521, 11, 12, 13, 525, 527, 16, 529, 530, 531, 533, 22, 23, 536, 537, 32, 33, 40, 558, 48, 49, 50, 561, 565, 567, 56, 59, 60, 573, 63, 64, 69, 70, 582, 585, 588, 589, 79, 82, 85, 602, 603, 604, 93, 606, 90, 98, 99, 100, 610, 611, 615, 104, 617, 108, 116, 629, 124, 636, 127, 129, 132, 133, 134, 135, 137, 651, 652, 654, 655, 144, 656, 657, 662, 663, 664, 153, 151, 155, 156, 157, 158, 160, 161, 162, 164, 168, 170, 174, 175, 176, 686, 178, 179, 180, 692, 182, 183, 693, 185, 186, 694, 695, 696, 697, 191, 192, 698, 194, 195, 699, 197, 198, 199, 200, 704, 705, 203, 707, 205, 709, 710, 711, 712, 201, 211, 216, 218, 221, 733, 223, 230, 745, 234, 238, 239, 243, 245, 765, 268, 269, 273, 274, 275, 276, 788, 790, 279, 283, 795, 285, 286, 289, 292, 804, 294, 296, 299, 302, 312, 828, 829, 319, 321, 327, 328, 333, 334, 851, 340, 343, 349, 861, 862, 354, 357, 870, 360, 367, 371, 883, 886, 378, 894, 385, 387, 906, 181, 402, 404, 406, 414, 416, 418, 420, 423, 430, 432, 435, 189, 447, 700, 450, 701, 702, 461, 462, 463, 460, 703, 467, 469, 470, 473, 474, 475, 478, 479, 480, 706, 482, 483, 484, 486, 488, 489, 708, 493, 495, 496, 497, 498, 499, 500, 502, 503, 504, 505, 506, 509, 510, 511}\n"
          ]
        }
      ]
    },
    {
      "cell_type": "markdown",
      "source": [
        "#Insights of above output\n",
        "\n",
        "The output shows two kinds of relationships:\n",
        "\n",
        "* A set of movies that user 2 has rated.\n",
        "\n",
        "* A set of users who have rated movie 10.\n",
        "\n",
        "This bipartite graph structure provides a powerful way to visualize and analyze user-item interactions. It forms the basis for advanced recommendation techniques like random walks, label propagation, and graph neural networks. The normalization step improves the reliability of comparisons between users, and the graph itself makes it easy to discover:\n",
        "\n",
        "* Which users have similar taste (based on shared movie nodes),\n",
        "\n",
        "* Which movies are commonly co-rated,\n",
        "\n",
        "* Potential candidates for recommendation paths in graph-based systems.\n",
        "\n",
        "It enables decentralized exploration and can support scalable recommendation in environments where relational data structures (like matrices) are too rigid or sparse."
      ],
      "metadata": {
        "id": "LAf371h0qZvK"
      }
    },
    {
      "cell_type": "markdown",
      "source": [
        "### **Implement Weighted Random Walks**"
      ],
      "metadata": {
        "id": "_ZE31gB7lImI"
      }
    },
    {
      "cell_type": "markdown",
      "source": [
        "#### **Random Walk-Based Movie Recommendation System (Weighted Pixie)**"
      ],
      "metadata": {
        "id": "yHe42rlJl9kD"
      }
    },
    {
      "cell_type": "markdown",
      "source": [
        "#### **Objective**\n",
        "In this task, you will implement a **random-walk-based recommendation algorithm** using the **Weighted Pixie** method. This technique uses a **user-movie bipartite graph** to recommend movies by simulating a random walk from a given user or movie."
      ],
      "metadata": {
        "id": "jyqptwreo-IP"
      }
    },
    {
      "cell_type": "markdown",
      "source": [
        "#### **Step 1: Import Required Libraries**\n",
        "Make sure you have the necessary libraries:\n",
        "\n",
        "```python\n",
        "import random  # For random walks\n",
        "import pandas as pd  # For handling data\n",
        "```"
      ],
      "metadata": {
        "id": "jFgyzzdCpfzu"
      }
    },
    {
      "cell_type": "markdown",
      "source": [
        "#### **Step 2: Implement the Random Walk Algorithm**\n",
        "Your task is to **simulate a random walk** from a given starting point in the **bipartite user-movie graph**.\n",
        "\n",
        "##### **Hints for Implementation**\n",
        "- Start from **either a user or a movie**.\n",
        "- At each step, **randomly move** to a connected node.\n",
        "- Keep track of **how many times each movie is visited**.\n",
        "- After completing the walk, **rank movies by visit count**."
      ],
      "metadata": {
        "id": "_FVGjhl0ppFK"
      }
    },
    {
      "cell_type": "markdown",
      "source": [
        "#### **Step 3: Implement User-Based Recommendation**\n",
        "**Hints:**\n",
        "- Check if the `user_id` exists in the `graph`.\n",
        "- Start a loop that runs for `walk_length` steps.\n",
        "- Randomly pick a **connected node** (user or movie).\n",
        "- Track how many times each **movie** is visited.\n",
        "- Sort movies by visit frequency and return the **top N**.\n",
        "\n",
        "#### **Step 4: Implement Movie-Based Recommendation**\n",
        "**Hints:**\n",
        "- Find the `movie_id` corresponding to the given `movie_name`.\n",
        "- Ensure the movie exists in the `graph`.\n",
        "- Start a random walk from that movie.\n",
        "- Follow the same **tracking and ranking** process as the user-based version.\n",
        "\n",
        "**Note:**  \n",
        "**Your task:** Implement a function `weighted_pixie_recommend(user_id, walk_length=15, num=5)` or `weighted_pixie_recommend(movie_name, walk_length=15, num=5)`.  \n",
        "**Implement either Step 3 or Step 4.**"
      ],
      "metadata": {
        "id": "E7D7Pj6trss9"
      }
    },
    {
      "cell_type": "markdown",
      "source": [
        "#### **Step 5: Running Your Recommendation System**\n",
        "Once your function is implemented, test it by calling:\n",
        "\n",
        "##### **Example: User-Based Recommendation**\n",
        "```python\n",
        "weighted_pixie_recommend(1, walk_length=15, num=5)\n",
        "```\n",
        "| Ranking | Movie Name                     |\n",
        "|---------|--------------------------------|\n",
        "| 1       | My Own Private Idaho (1991)   |\n",
        "| 2       | Aladdin (1992)                |\n",
        "| 3       | 12 Angry Men (1957)           |\n",
        "| 4       | Happy Gilmore (1996)          |\n",
        "| 5       | Copycat (1995)                |\n",
        "\n",
        "\n",
        "##### **Example: Movie-Based Recommendation**\n",
        "```python\n",
        "weighted_pixie_recommend(\"Jurassic Park (1993)\", walk_length=10, num=5)\n",
        "```\n",
        "| Ranking | Movie Name                           |\n",
        "|---------|-------------------------------------|\n",
        "| 1       | Rear Window (1954)                 |\n",
        "| 2       | Great Dictator, The (1940)         |\n",
        "| 3       | Field of Dreams (1989)             |\n",
        "| 4       | Casablanca (1942)                  |\n",
        "| 5       | Nightmare Before Christmas, The (1993) |\n"
      ],
      "metadata": {
        "id": "qxN_ibCCrCpx"
      }
    },
    {
      "cell_type": "markdown",
      "source": [
        "#### **Step 6: Understanding the Results**\n",
        "Your function should return a **DataFrame** structured as follows:\n",
        "\n",
        "| Ranking | Movie Name |\n",
        "|---------|-----------|\n",
        "| 1       | Movie A   |\n",
        "| 2       | Movie B   |\n",
        "| 3       | Movie C   |\n",
        "| 4       | Movie D   |\n",
        "| 5       | Movie E   |\n",
        "\n",
        "Each movie is ranked based on **how frequently it was visited** during the walk.\n",
        "\n",
        "#### **Experiment with Different Parameters**\n",
        "- Try different **`walk_length`** values and observe how it changes recommendations.\n",
        "- Adjust the number of recommended movies (`num`)."
      ],
      "metadata": {
        "id": "ZpUH9IzVr5aQ"
      }
    },
    {
      "cell_type": "markdown",
      "source": [
        "#Code Explanation\n",
        "\n",
        "Imports and Setup:\n",
        "\n",
        "* Uses random for simulating the walk, pandas for handling movie data, and defaultdict to track how often movies are visited.\n",
        "\n",
        "Function weighted_pixie_recommend(start, walk_length=15, num=5)\n",
        "\n",
        "* Determines if the input start is a user ID (int) or a movie title (str).\n",
        "\n",
        "* For user-based walks, it starts directly from the user node.\n",
        "\n",
        "* For movie-based walks, it first retrieves the movie ID from the movies DataFrame, then starts the walk from that movie node.\n",
        "\n",
        "Random Walk Logic:\n",
        "\n",
        "* For each step in the walk (up to walk_length), it randomly selects a connected node (user or movie) from the bipartite graph.\n",
        "\n",
        "* If the node visited is a movie node, it increments a counter in visited_movies.\n",
        "\n",
        "Recommendation Construction:\n",
        "\n",
        "* After the walk, movies are sorted by how frequently they were visited.\n",
        "\n",
        "* The top N movie IDs are mapped back to their titles.\n",
        "\n",
        "* A ranked list is returned as a DataFrame, showing the top recommended movies."
      ],
      "metadata": {
        "id": "aziLizbRrAxl"
      }
    },
    {
      "cell_type": "code",
      "source": [
        "# Code the function here\n",
        "import random\n",
        "import pandas as pd\n",
        "from collections import defaultdict\n",
        "\n",
        "# Function to perform a random walk and generate movie recommendations\n",
        "def weighted_pixie_recommend(start, walk_length=15, num=5):\n",
        "    # Determine if input is user_id (int) or movie_name (str)\n",
        "    if isinstance(start, int):  # User-based walk\n",
        "        if start not in graph:\n",
        "            return f\"User ID {start} not found in the graph.\"\n",
        "        current = start\n",
        "    else:  # Movie-based walk\n",
        "        movie_match = movies[movies[\"title\"] == start]\n",
        "        if movie_match.empty:\n",
        "            return f\"Movie '{start}' not found in the dataset.\"\n",
        "        movie_id = movie_match[\"movie_id\"].values[0]\n",
        "        if movie_id not in graph:\n",
        "            return f\"Movie ID {movie_id} not found in the graph.\"\n",
        "        current = movie_id\n",
        "\n",
        "    # Simulate random walk\n",
        "    visited_movies = defaultdict(int)\n",
        "    for _ in range(walk_length):\n",
        "        neighbors = list(graph.get(current, []))\n",
        "        if not neighbors:\n",
        "            break\n",
        "        current = random.choice(neighbors)\n",
        "        if isinstance(current, int) and current in movies['movie_id'].values:\n",
        "            visited_movies[current] += 1\n",
        "\n",
        "    # Sort movies by visit frequency\n",
        "    sorted_movies = sorted(visited_movies.items(), key=lambda x: x[1], reverse=True)[:num]\n",
        "    movie_names = [movies[movies[\"movie_id\"] == mid][\"title\"].values[0] for mid, _ in sorted_movies]\n",
        "\n",
        "    # Prepare and return result DataFrame\n",
        "    result_df = pd.DataFrame({\n",
        "        'Ranking': range(1, len(movie_names) + 1),\n",
        "        'Movie Name': movie_names\n",
        "    })\n",
        "    result_df.set_index('Ranking', inplace=True)\n",
        "    return result_df\n",
        "\n",
        "# Example user-based recommendation\n",
        "user_recommendations = weighted_pixie_recommend(1, walk_length=11, num=5)\n",
        "\n",
        "# Example movie-based recommendation\n",
        "movie_recommendations = weighted_pixie_recommend(\"Jurassic Park (1993)\", walk_length=12, num=5)\n",
        "\n",
        "user_recommendations, movie_recommendations\n"
      ],
      "metadata": {
        "id": "tZD5fjG-lx3b",
        "colab": {
          "base_uri": "https://localhost:8080/"
        },
        "outputId": "6af424f7-e983-4173-ca11-e4dfbfad8828"
      },
      "execution_count": 34,
      "outputs": [
        {
          "output_type": "execute_result",
          "data": {
            "text/plain": [
              "(                           Movie Name\n",
              " Ranking                              \n",
              " 1          Usual Suspects, The (1995)\n",
              " 2                Air Force One (1997)\n",
              " 3              Aristocats, The (1970)\n",
              " 4               Demolition Man (1993)\n",
              " 5        Life Less Ordinary, A (1997),\n",
              "                                             Movie Name\n",
              " Ranking                                               \n",
              " 1                         Up Close and Personal (1996)\n",
              " 2                           Alice in Wonderland (1951)\n",
              " 3                                       Thinner (1996)\n",
              " 4        William Shakespeare's Romeo and Juliet (1996)\n",
              " 5                                       Twister (1996))"
            ]
          },
          "metadata": {},
          "execution_count": 34
        }
      ]
    },
    {
      "cell_type": "markdown",
      "source": [
        "#Insights of above code\n",
        "\n",
        "The Weighted Pixie random-walk method leverages the user-movie bipartite graph to generate recommendations by exploring connections through simulated movement, mimicking the way ideas or preferences \"travel\" through a social or behavioral network. For user_id = 1, the walk explores the graph from that user’s known preferences, moving through similar users and arriving at movies that share common appeal. Likewise, starting from \"Jurassic Park (1993)\" identifies movies commonly co-rated or liked by users who also liked that film.\n",
        "\n",
        "The insight is that this method is graph-aware and interaction-driven, allowing it to uncover indirect associations that traditional similarity metrics might miss. It’s particularly valuable for cold-start scenarios or diverse recommendations, since it naturally explores lesser-known paths in the graph structure. This dynamic and random exploration ensures the model doesn’t just recommend popular items, but rather contextually relevant ones, reflecting both user behavior and item relationships."
      ],
      "metadata": {
        "id": "Mj4DtabprZHL"
      }
    },
    {
      "cell_type": "markdown",
      "source": [
        "---"
      ],
      "metadata": {
        "id": "Q36Y2C7PxWO0"
      }
    },
    {
      "cell_type": "markdown",
      "source": [
        "## **Submission Requirements:**"
      ],
      "metadata": {
        "id": "9iKlQlvBtiGe"
      }
    },
    {
      "cell_type": "markdown",
      "source": [
        "To successfully complete this assignment, ensure that you submit the following:\n",
        "\n",
        "\n",
        "### **1. Jupyter Notebook Submission**\n",
        "- Submit a **fully completed Jupyter Notebook** that includes:\n",
        "  - **All implemented recommendation functions** (user-based, item-based, and random walk-based recommendations).\n",
        "  - **Code explanations** in markdown cells to describe each step.\n",
        "  - **Results and insights** from running your recommendation models.\n",
        "\n",
        "\n",
        "### **2. Explanation of Pixie-Inspired Algorithms (3-5 Paragraphs)**\n",
        "- Write a **detailed explanation** of **Pixie-inspired random walk algorithms** used for recommendations.\n",
        "- Your explanation should cover:\n",
        "  - What **Pixie-inspired recommendation systems** are.\n",
        "  - How **random walks** help in identifying relevant recommendations.\n",
        "  - Any real-world applications of such algorithms in industry.\n",
        "\n",
        "\n",
        "### **3. Report for the Submitted Notebook**\n",
        "Your report should be structured as follows:\n",
        "\n",
        "#### **Title: Movie Recommendation System Report**\n",
        "\n",
        "#### **1. Introduction**\n",
        "- Briefly introduce **movie recommendation systems** and why they are important.\n",
        "- Explain the **different approaches used** (user-based, item-based, random-walk).\n",
        "\n",
        "#### **2. Dataset Description**\n",
        "- Describe the **MovieLens 100K dataset**:\n",
        "  - Number of users, movies, and ratings.\n",
        "  - What features were used.\n",
        "  - Any preprocessing performed.\n",
        "\n",
        "#### **3. Methodology**\n",
        "- Explain the three recommendation techniques implemented:\n",
        "  - **User-based collaborative filtering** (how user similarity was calculated).\n",
        "  - **Item-based collaborative filtering** (how item similarity was determined).\n",
        "  - **Random-walk-based Pixie algorithm** (why graph-based approaches are effective).\n",
        "  \n",
        "#### **4. Implementation Details**\n",
        "- Discuss the steps taken to build the functions.\n",
        "- Describe how the **adjacency list graph** was created.\n",
        "- Explain how **random walks** were performed and how visited movies were ranked.\n",
        "\n",
        "#### **5. Results and Evaluation**\n",
        "- Present **example outputs** from each recommendation approach.\n",
        "- Compare the different methods in terms of accuracy and usefulness.\n",
        "- Discuss any **limitations** in the implementation.\n",
        "\n",
        "#### **6. Conclusion**\n",
        "- Summarize the key takeaways from the project.\n",
        "- Discuss potential improvements (e.g., **hybrid models, additional features**).\n",
        "- Suggest real-world applications of the methods used."
      ],
      "metadata": {
        "id": "NHGGedZexPs0"
      }
    },
    {
      "cell_type": "markdown",
      "source": [
        "### **Submission Instructions**"
      ],
      "metadata": {
        "id": "NWgT_Shy-vUK"
      }
    },
    {
      "cell_type": "markdown",
      "source": [
        "- Submit `.zip` file consisting of Jupyter Notebook and all the datafiles (provided) and the ones saved [i.e. `users.csv`, `movies.csv` and `ratings.csv`]. Also, include the Report and Pixie Algorithm explanation document.\n",
        "- [`Bonus 10 Points`] **Upload your Jupyter Notebook, Explanation Document, and Report** to your GitHub repository.\n",
        "- Ensure the repository is public and contains:\n",
        "  - `users.csv`, `movies.csv` and `ratings.csv` [These are the Dataframes which were created in part 1. Save and export them as a `.csv` file]\n",
        "  - `Movie_Recommendation.ipynb`\n",
        "  - `Pixie_Algorithm_Explanation.pdf` or `.md`\n",
        "  - `Recommendation_Report.pdf` or `.md`\n",
        "- **Submit the GitHub repository link in the cell below.**\n",
        "\n",
        "\n",
        "#### **Example Submission Format**\n",
        "```text\n",
        "GitHub Repository: https://github.com/username/Movie-Recommendation\n",
        "```"
      ],
      "metadata": {
        "id": "Nuz1s-Vh_L55"
      }
    },
    {
      "cell_type": "code",
      "source": [
        "# Submit the Github Link here:\n",
        "https://github.com/AyusMukherjee/Movie-Recommendation-System-801417497"
      ],
      "metadata": {
        "id": "jol9nRDau6fZ"
      },
      "execution_count": null,
      "outputs": []
    },
    {
      "cell_type": "markdown",
      "source": [
        "### **Grading Rubric: ITCS 6162 - Data Mining Assignment**"
      ],
      "metadata": {
        "id": "oQ6aluK-0ZMa"
      }
    },
    {
      "cell_type": "markdown",
      "source": [
        "\n",
        "| **Category**                              | **Criteria**                                                     | **Points** |\n",
        "|-------------------------------------------|----------------------------------------------------------------|------------|\n",
        "| **Part 1: Exploring and Cleaning Data (15 pts)**  | Properly loads `u.user`, `u.movies`, and `u.item` datasets into DataFrames | 5 |\n",
        "|                                           | Handles missing values, duplicates, and inconsistencies appropriately | 5 |\n",
        "|                                           | Saves the cleaned datasets into CSV files: `users.csv`, `movies.csv`, `ratings.csv` | 5 |\n",
        "| **Part 2: Collaborative Filtering-Based Recommendation (30 pts)** | Implements user-based collaborative filtering correctly | 10 |\n",
        "|                                           | Implements item-based collaborative filtering correctly | 10 |\n",
        "|                                           | Computes similarity measures accurately and provides valid recommendations | 10 |\n",
        "| **Part 3: Graph-Based Recommender (Pixie-Inspired Algorithm) (35 pts)** | Constructs adjacency lists properly from user-movie interactions | 10 |\n",
        "|                                           | Implements weighted random walk-based recommendation correctly | 15 |\n",
        "|                                           | Explains and justifies the algorithm design choices (Pixie-inspired) | 10 |\n",
        "| **Code Quality & Documentation (10 pts)** | Code is well-structured, efficient, and follows best practices | 5 |\n",
        "|                                           | Markdown explanations and comments are clear and enhance understanding | 5 |\n",
        "| **Results & Interpretation (5 pts)**      | Provides meaningful insights from the recommendation system's output | 5 |\n",
        "| **Submission & Report (5 pts)**          | Submits all required files in the correct format (ZIP file with Jupyter notebook, processed CSV files, and project report) | 5 |\n",
        "| **Total**                                 |                              | 100 |\n",
        "\n",
        "#### **Bonus (10 pts)**\n",
        "| **Category**                              | **Criteria**                                                     | **Points** |\n",
        "|-------------------------------------------|----------------------------------------------------------------|------------|\n",
        "| **GitHub Submission**                     | Provides a well-documented GitHub repository with CSV files, a structured README, and a properly formatted Jupyter Notebook | 10 |"
      ],
      "metadata": {
        "id": "sNAfeIzA_fCq"
      }
    }
  ]
}